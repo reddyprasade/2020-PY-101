{
  "cells": [
    {
      "cell_type": "markdown",
      "source": [
        "<h2 align = center> Data Structure</h2>\n",
        "<div class=\"bg-light sidebar-module sidebar-module-inset\" id=\"toc\">\n",
        "<p class=\"h3 mb-2 text-muted\">Table of Contents</p>\n",
        "<div class=\"toc\">\n",
        "<ul>\n",
        "<li><a href=\"#what-is-Data-structure\">What is Data structure</a><ul>\n",
        "<li><a href=\"#Types of Data Structure\">Types of Data Structure</a></li>\n",
        "  <ul><li><a href=\"#List\">List</a></li>\n",
        "    <li><a href=\"#Tuple\">Tuple</a></li>\n",
        "    <li><a href=\"#Set\">Set</a></li>\n",
        "    <li><a href=\"#Dictionary \">Dictionary</a></li>\n",
        "  </ul>\n",
        "</ul>\n",
        "</li>\n",
        "<li><a href=\"#conclusion\">Conclusion</a></li>\n",
        "</ul>\n",
        "\n",
        "</div>"
      ],
      "metadata": {}
    },
    {
      "cell_type": "code",
      "source": [
        "# `a` is Varable and 10 is Values which we storing data\n",
        "a = 10  # Int, Float, String ,Complex, Boolean "
      ],
      "outputs": [],
      "execution_count": 1,
      "metadata": {
        "collapsed": true,
        "jupyter": {
          "source_hidden": false,
          "outputs_hidden": false
        },
        "nteract": {
          "transient": {
            "deleting": false
          }
        },
        "execution": {
          "iopub.status.busy": "2020-08-20T15:48:09.597Z",
          "iopub.execute_input": "2020-08-20T15:48:09.601Z",
          "iopub.status.idle": "2020-08-20T15:48:09.637Z",
          "shell.execute_reply": "2020-08-20T15:48:09.641Z"
        }
      }
    },
    {
      "cell_type": "markdown",
      "source": [
        "## What is Data Structure:\n",
        "* Data structures are a way of organizing and storing data so that they can be accessed and worked with efficiently. \n",
        "* They define the relationship between the data, and the operations that can be performed on the data. \n",
        "* There are many various kinds of data structures defined that make it easier for the data scientists and the computer engineers, alike to concentrate on the main picture of solving larger problems rather than getting lost in the details of data description and access.\n",
        "* Non-Primitive Data Structures\n",
        "* Non-primitive types are the sophisticated members of the data structure family. They don't just store a value, but rather a collection of values in various formats.\n"
      ],
      "metadata": {}
    },
    {
      "cell_type": "markdown",
      "source": [
        "* List can Use to Create Square Bracket []\n",
        "* Tuple Can Create by using Rounded bracket ()\n",
        "* Set and Dictionary Can be create by Using Curly Bracket {}"
      ],
      "metadata": {
        "nteract": {
          "transient": {
            "deleting": false
          }
        }
      }
    },
    {
      "cell_type": "code",
      "source": [
        "a = [10 ,20,30,40,50]"
      ],
      "outputs": [],
      "execution_count": 2,
      "metadata": {
        "execution": {
          "iopub.status.busy": "2020-08-20T15:51:02.759Z",
          "iopub.execute_input": "2020-08-20T15:51:02.768Z",
          "iopub.status.idle": "2020-08-20T15:51:02.776Z",
          "shell.execute_reply": "2020-08-20T15:51:02.785Z"
        }
      }
    },
    {
      "cell_type": "code",
      "source": [
        "a"
      ],
      "outputs": [
        {
          "output_type": "execute_result",
          "execution_count": 3,
          "data": {
            "text/plain": "[10, 20, 30, 40, 50]"
          },
          "metadata": {}
        }
      ],
      "execution_count": 3,
      "metadata": {
        "execution": {
          "iopub.status.busy": "2020-08-20T15:51:09.212Z",
          "iopub.execute_input": "2020-08-20T15:51:09.217Z",
          "iopub.status.idle": "2020-08-20T15:51:09.288Z",
          "shell.execute_reply": "2020-08-20T15:51:09.292Z"
        }
      }
    },
    {
      "cell_type": "code",
      "source": [
        "10 in a"
      ],
      "outputs": [
        {
          "output_type": "execute_result",
          "execution_count": 3,
          "data": {
            "text/plain": "True"
          },
          "metadata": {}
        }
      ],
      "execution_count": 3,
      "metadata": {}
    },
    {
      "cell_type": "code",
      "source": [
        "a + [2,5]"
      ],
      "outputs": [
        {
          "output_type": "execute_result",
          "execution_count": 5,
          "data": {
            "text/plain": "[10, 20, 30, 40, 50, 2, 5]"
          },
          "metadata": {}
        }
      ],
      "execution_count": 5,
      "metadata": {}
    }
  ],
  "metadata": {
    "kernelspec": {
      "display_name": "Python 3",
      "language": "python",
      "name": "python3"
    },
    "language_info": {
      "name": "python",
      "version": "3.6.8",
      "mimetype": "text/x-python",
      "codemirror_mode": {
        "name": "ipython",
        "version": 3
      },
      "pygments_lexer": "ipython3",
      "nbconvert_exporter": "python",
      "file_extension": ".py"
    },
    "nteract": {
      "version": "0.24.1"
    }
  },
  "nbformat": 4,
  "nbformat_minor": 4
}