{
  "cells": [
    {
      "cell_type": "markdown",
      "source": [
        "<h1>Tuples in Python</h1>"
      ],
      "metadata": {}
    },
    {
      "cell_type": "markdown",
      "source": [
        "<p><strong>Welcome!</strong> This notebook will teach you about the tuples in the Python Programming Language. By the end of this lab, you'll know the basics tuple operations in Python, including indexing, slicing and sorting.</p> "
      ],
      "metadata": {}
    },
    {
      "cell_type": "markdown",
      "source": [
        "<h2>Table of Contents</h2>\n",
        "<div class=\"alert alert-block alert-info\" style=\"margin-top: 20px\">\n",
        "    <ul>\n",
        "        <li>\n",
        "            <a href=\"#dataset\">About the Dataset</a>\n",
        "        </li>\n",
        "        <li>\n",
        "            <a href=\"#tuple\">Tuples</a>\n",
        "            <ul>\n",
        "                <li><a href=\"index\">Indexing</a></li>\n",
        "                <li><a href=\"slice\">Slicing</a></li>\n",
        "                <li><a href=\"sort\">Sorting</a></li>\n",
        "            </ul>\n",
        "        </li>\n",
        "        <li>\n",
        "            <a href=\"#escape\">Quiz on Tuples</a>\n",
        "        </li>\n",
        "    </ul>\n",
        "    <p>\n",
        "        Estimated time needed: <strong>15 min</strong>\n",
        "    </p>\n",
        "</div>\n",
        "\n",
        "<hr>"
      ],
      "metadata": {}
    },
    {
      "cell_type": "markdown",
      "source": [
        "<h2 id=\"dataset\">About the Dataset</h2>"
      ],
      "metadata": {}
    },
    {
      "cell_type": "markdown",
      "source": [
        "<hr>"
      ],
      "metadata": {}
    },
    {
      "cell_type": "markdown",
      "source": [
        "<h2 id=\"tuple\">Tuples</h2>"
      ],
      "metadata": {}
    },
    {
      "cell_type": "markdown",
      "source": [
        "In Python, Five are different data types: \n",
        "\n",
        "**Boolean ,Complex,string, integer and float**. \n",
        "\n",
        "These data types can all be contained in a tuple as follows:\n",
        "\n",
        "\n",
        "* Tuple is Collection of Elements/iteams which are in order.\n",
        "* Tuple will allow different Datatype(string, integer,complex,boolean and float)\n",
        "* Tuple is will allow Duplicate Elements.\n",
        "* Tuple will have index and Slice and Strid\n",
        "* Tuple is not possable Index based iteam Assignment because it is Immutable(once we Asiggn We can't Modife)\n",
        "* **Immutable:** which means once defined you cannot delete, add or edit any values inside it"
      ],
      "metadata": {}
    },
    {
      "cell_type": "markdown",
      "source": [
        "<img src=\"https://s3-api.us-geo.objectstorage.softlayer.net/cf-courses-data/CognitiveClass/PY0101EN/Chapter%202/Images/TuplesType.png\" width=\"750\" align=\"center\" />"
      ],
      "metadata": {}
    },
    {
      "cell_type": "markdown",
      "source": [
        "Now, let us create your first tuple **(Rounded Brackets)** with string, integer and float."
      ],
      "metadata": {}
    },
    {
      "cell_type": "markdown",
      "source": [
        "If you are your Giving multiple Values with comma Seprated by default it consider it as a Tuple"
      ],
      "metadata": {}
    },
    {
      "cell_type": "code",
      "source": [
        "# Create your first tuple\n",
        "\n",
        "tuple1 = (\"disco\",10,1.2,True,10j+2 )\n",
        "tuple1"
      ],
      "outputs": [
        {
          "output_type": "execute_result",
          "execution_count": 1,
          "data": {
            "text/plain": "('disco', 10, 1.2, True, (2+10j))"
          },
          "metadata": {}
        }
      ],
      "execution_count": 1,
      "metadata": {
        "collapsed": false,
        "jupyter": {
          "outputs_hidden": false
        },
        "execution": {
          "iopub.status.busy": "2020-08-20T16:02:58.653Z",
          "iopub.execute_input": "2020-08-20T16:02:58.674Z",
          "iopub.status.idle": "2020-08-20T16:02:58.717Z",
          "shell.execute_reply": "2020-08-20T16:02:58.733Z"
        }
      }
    },
    {
      "cell_type": "code",
      "source": [
        "tu = 10,20.5,20j+3,'hello',True,10\n",
        "tu"
      ],
      "outputs": [
        {
          "output_type": "execute_result",
          "execution_count": 4,
          "data": {
            "text/plain": "(10, 20.5, (3+20j), 'hello', True, 10)"
          },
          "metadata": {}
        }
      ],
      "execution_count": 4,
      "metadata": {
        "execution": {
          "iopub.status.busy": "2020-08-20T16:03:37.064Z",
          "iopub.execute_input": "2020-08-20T16:03:37.084Z",
          "iopub.status.idle": "2020-08-20T16:03:37.135Z",
          "shell.execute_reply": "2020-08-20T16:03:37.150Z"
        }
      }
    },
    {
      "cell_type": "code",
      "source": [
        "type(tu)"
      ],
      "outputs": [
        {
          "output_type": "execute_result",
          "execution_count": 5,
          "data": {
            "text/plain": "tuple"
          },
          "metadata": {}
        }
      ],
      "execution_count": 5,
      "metadata": {
        "execution": {
          "iopub.status.busy": "2020-08-20T16:05:45.251Z",
          "iopub.execute_input": "2020-08-20T16:05:45.270Z",
          "iopub.status.idle": "2020-08-20T16:05:45.313Z",
          "shell.execute_reply": "2020-08-20T16:05:45.347Z"
        }
      }
    },
    {
      "cell_type": "markdown",
      "source": [
        "The type of variable is a **tuple**. "
      ],
      "metadata": {}
    },
    {
      "cell_type": "code",
      "source": [
        "# Print the type of the tuple you created\n",
        "\n",
        "type(tuple1)"
      ],
      "outputs": [
        {
          "output_type": "execute_result",
          "execution_count": 6,
          "data": {
            "text/plain": "tuple"
          },
          "metadata": {}
        }
      ],
      "execution_count": 6,
      "metadata": {
        "collapsed": false,
        "jupyter": {
          "outputs_hidden": false
        },
        "execution": {
          "iopub.status.busy": "2020-08-20T16:05:48.629Z",
          "iopub.execute_input": "2020-08-20T16:05:48.651Z",
          "iopub.status.idle": "2020-08-20T16:05:48.703Z",
          "shell.execute_reply": "2020-08-20T16:05:48.723Z"
        }
      }
    },
    {
      "cell_type": "code",
      "source": [
        "a = [10,20,30,40,50]\n",
        "t = tuple(a)\n",
        "t"
      ],
      "outputs": [
        {
          "output_type": "execute_result",
          "execution_count": 7,
          "data": {
            "text/plain": "(10, 20, 30, 40, 50)"
          },
          "metadata": {}
        }
      ],
      "execution_count": 7,
      "metadata": {
        "execution": {
          "iopub.status.busy": "2020-08-20T16:06:03.046Z",
          "iopub.execute_input": "2020-08-20T16:06:03.066Z",
          "iopub.status.idle": "2020-08-20T16:06:03.108Z",
          "shell.execute_reply": "2020-08-20T16:06:03.131Z"
        }
      }
    },
    {
      "cell_type": "code",
      "source": [
        "t = (10,2.2,'hi',True,2j+3)\n",
        "t"
      ],
      "outputs": [
        {
          "output_type": "execute_result",
          "execution_count": 8,
          "data": {
            "text/plain": "(10, 2.2, 'hi', True, (3+2j))"
          },
          "metadata": {}
        }
      ],
      "execution_count": 8,
      "metadata": {
        "execution": {
          "iopub.status.busy": "2020-08-20T16:06:12.124Z",
          "iopub.execute_input": "2020-08-20T16:06:12.141Z",
          "iopub.status.idle": "2020-08-20T16:06:12.174Z",
          "shell.execute_reply": "2020-08-20T16:06:12.195Z"
        }
      }
    },
    {
      "cell_type": "code",
      "source": [
        "type(t)"
      ],
      "outputs": [
        {
          "output_type": "execute_result",
          "execution_count": 9,
          "data": {
            "text/plain": "tuple"
          },
          "metadata": {}
        }
      ],
      "execution_count": 9,
      "metadata": {
        "execution": {
          "iopub.status.busy": "2020-08-20T16:06:12.949Z",
          "iopub.execute_input": "2020-08-20T16:06:12.968Z",
          "iopub.status.idle": "2020-08-20T16:06:13.006Z",
          "shell.execute_reply": "2020-08-20T16:06:13.024Z"
        }
      }
    },
    {
      "cell_type": "markdown",
      "source": [
        "<h3 id=\"index\">Indexing</h3>"
      ],
      "metadata": {}
    },
    {
      "cell_type": "markdown",
      "source": [
        " Each element of a tuple can be accessed via an index. The following table represents the relationship between the index and the items in the tuple. Each element can be obtained by the name of the tuple followed by a square bracket with the index number:"
      ],
      "metadata": {}
    },
    {
      "cell_type": "markdown",
      "source": [
        "<img src=\"https://s3-api.us-geo.objectstorage.softlayer.net/cf-courses-data/CognitiveClass/PY0101EN/Chapter%202/Images/TuplesIndex.gif\" width=\"750\" align=\"center\">"
      ],
      "metadata": {}
    },
    {
      "cell_type": "markdown",
      "source": [
        "We can print out each value in the tuple:"
      ],
      "metadata": {}
    },
    {
      "cell_type": "code",
      "source": [
        "# Print the variable on each index\n",
        "\n",
        "print(tuple1[0])\n",
        "print(tuple1[1])\n",
        "print(tuple1[2])"
      ],
      "outputs": [
        {
          "output_type": "stream",
          "name": "stdout",
          "text": [
            "disco\n",
            "10\n",
            "1.2\n"
          ]
        }
      ],
      "execution_count": 10,
      "metadata": {
        "collapsed": false,
        "jupyter": {
          "outputs_hidden": false
        },
        "execution": {
          "iopub.status.busy": "2020-08-20T16:11:20.860Z",
          "iopub.execute_input": "2020-08-20T16:11:20.885Z",
          "iopub.status.idle": "2020-08-20T16:11:20.927Z",
          "shell.execute_reply": "2020-08-20T16:11:20.946Z"
        }
      }
    },
    {
      "cell_type": "markdown",
      "source": [
        "We can print out the **type** of each value in the tuple:\n"
      ],
      "metadata": {}
    },
    {
      "cell_type": "code",
      "source": [
        "# Print the type of value on each index\n",
        "\n",
        "print(type(tuple1[-1]))\n",
        "print(type(tuple1[-2]))\n",
        "print(type(tuple1[-3]))"
      ],
      "outputs": [
        {
          "output_type": "stream",
          "name": "stdout",
          "text": [
            "<class 'complex'>\n",
            "<class 'bool'>\n",
            "<class 'float'>\n"
          ]
        }
      ],
      "execution_count": 11,
      "metadata": {
        "execution": {
          "iopub.status.busy": "2020-08-20T16:11:57.487Z",
          "iopub.execute_input": "2020-08-20T16:11:57.513Z",
          "iopub.status.idle": "2020-08-20T16:11:57.554Z",
          "shell.execute_reply": "2020-08-20T16:11:57.573Z"
        }
      }
    },
    {
      "cell_type": "code",
      "source": [
        "Tuple1 = ('disco',10,1.2)\n",
        "Tuple1"
      ],
      "outputs": [
        {
          "output_type": "execute_result",
          "execution_count": 13,
          "data": {
            "text/plain": "('disco', 10, 1.2)"
          },
          "metadata": {}
        }
      ],
      "execution_count": 13,
      "metadata": {
        "collapsed": true,
        "jupyter": {
          "source_hidden": false,
          "outputs_hidden": false
        },
        "nteract": {
          "transient": {
            "deleting": false
          }
        },
        "execution": {
          "iopub.status.busy": "2020-08-20T16:18:18.627Z",
          "iopub.execute_input": "2020-08-20T16:18:18.643Z",
          "iopub.status.idle": "2020-08-20T16:18:18.677Z",
          "shell.execute_reply": "2020-08-20T16:18:18.692Z"
        }
      }
    },
    {
      "cell_type": "markdown",
      "source": [
        "We can also use negative indexing. We use the same table above with corresponding negative values:"
      ],
      "metadata": {}
    },
    {
      "cell_type": "markdown",
      "source": [
        "<img src=\"https://s3-api.us-geo.objectstorage.softlayer.net/cf-courses-data/CognitiveClass/PY0101EN/Chapter%202/Images/TuplesNeg.png\" width=\"750\" align=\"center\">"
      ],
      "metadata": {}
    },
    {
      "cell_type": "markdown",
      "source": [
        "We can obtain the last element as follows (this time we will not use the print statement to display the values):"
      ],
      "metadata": {}
    },
    {
      "cell_type": "code",
      "source": [
        "# Use negative index to get the value of the last element\n",
        "\n",
        "Tuple1[-1]"
      ],
      "outputs": [
        {
          "output_type": "execute_result",
          "execution_count": 15,
          "data": {
            "text/plain": "1.2"
          },
          "metadata": {}
        }
      ],
      "execution_count": 15,
      "metadata": {
        "collapsed": false,
        "jupyter": {
          "outputs_hidden": false
        },
        "execution": {
          "iopub.status.busy": "2020-08-20T16:18:36.382Z",
          "iopub.execute_input": "2020-08-20T16:18:36.402Z",
          "iopub.status.idle": "2020-08-20T16:18:36.444Z",
          "shell.execute_reply": "2020-08-20T16:18:36.472Z"
        }
      }
    },
    {
      "cell_type": "markdown",
      "source": [
        "We can display the next two elements as follows:"
      ],
      "metadata": {}
    },
    {
      "cell_type": "code",
      "source": [
        "# Use negative index to get the value of the second last element\n",
        "\n",
        "Tuple1[-2]"
      ],
      "outputs": [],
      "execution_count": null,
      "metadata": {
        "collapsed": false,
        "jupyter": {
          "outputs_hidden": false
        }
      }
    },
    {
      "cell_type": "code",
      "source": [
        "# Use negative index to get the value of the third last element\n",
        "\n",
        "tuple1[-3]"
      ],
      "outputs": [],
      "execution_count": null,
      "metadata": {
        "collapsed": false,
        "jupyter": {
          "outputs_hidden": false
        }
      }
    },
    {
      "cell_type": "markdown",
      "source": [
        "<h3 id=\"concate\">Concatenate Tuples</h3>"
      ],
      "metadata": {}
    },
    {
      "cell_type": "markdown",
      "source": [
        "We can concatenate or combine tuples by using the **+** sign:"
      ],
      "metadata": {}
    },
    {
      "cell_type": "code",
      "source": [
        "# Concatenate two tuples\n",
        "\n",
        "tuple2 = Tuple1 + (\"hard rock\", 10)\n",
        "tuple2"
      ],
      "outputs": [
        {
          "output_type": "execute_result",
          "execution_count": 16,
          "data": {
            "text/plain": "('disco', 10, 1.2, 'hard rock', 10)"
          },
          "metadata": {}
        }
      ],
      "execution_count": 16,
      "metadata": {
        "collapsed": false,
        "jupyter": {
          "outputs_hidden": false
        },
        "execution": {
          "iopub.status.busy": "2020-08-20T16:25:33.981Z",
          "iopub.execute_input": "2020-08-20T16:25:34.005Z",
          "iopub.status.idle": "2020-08-20T16:25:34.051Z",
          "shell.execute_reply": "2020-08-20T16:25:34.069Z"
        }
      }
    },
    {
      "cell_type": "markdown",
      "source": [
        "We can slice tuples obtaining multiple values as demonstrated by the figure below:"
      ],
      "metadata": {}
    },
    {
      "cell_type": "markdown",
      "source": [
        "<img src=\"https://s3-api.us-geo.objectstorage.softlayer.net/cf-courses-data/CognitiveClass/PY0101EN/Chapter%202/Images/TuplesSlice.gif\" width=\"750\" align=\"center\">"
      ],
      "metadata": {}
    },
    {
      "cell_type": "markdown",
      "source": [
        "<h3 id=\"slice\">Slicing</h3>"
      ],
      "metadata": {}
    },
    {
      "cell_type": "markdown",
      "source": [
        "We can slice tuples, obtaining new tuples with the corresponding elements: "
      ],
      "metadata": {}
    },
    {
      "cell_type": "code",
      "source": [
        "# Slice from index 0 to index 2\n",
        "\n",
        "tuple2[0:3]"
      ],
      "outputs": [
        {
          "output_type": "execute_result",
          "execution_count": 17,
          "data": {
            "text/plain": "('disco', 10, 1.2)"
          },
          "metadata": {}
        }
      ],
      "execution_count": 17,
      "metadata": {
        "collapsed": false,
        "jupyter": {
          "outputs_hidden": false
        },
        "execution": {
          "iopub.status.busy": "2020-08-20T16:29:40.649Z",
          "iopub.execute_input": "2020-08-20T16:29:40.682Z",
          "iopub.status.idle": "2020-08-20T16:29:40.722Z",
          "shell.execute_reply": "2020-08-20T16:29:40.738Z"
        }
      }
    },
    {
      "cell_type": "markdown",
      "source": [
        "We can obtain the last two elements of the tuple:"
      ],
      "metadata": {}
    },
    {
      "cell_type": "code",
      "source": [
        "# Slice from index 3 to index 4\n",
        "\n",
        "tuple2[3:5]"
      ],
      "outputs": [
        {
          "output_type": "execute_result",
          "execution_count": 18,
          "data": {
            "text/plain": "('hard rock', 10)"
          },
          "metadata": {}
        }
      ],
      "execution_count": 18,
      "metadata": {
        "collapsed": false,
        "jupyter": {
          "outputs_hidden": false
        },
        "execution": {
          "iopub.status.busy": "2020-08-20T16:32:02.060Z",
          "iopub.execute_input": "2020-08-20T16:32:02.087Z",
          "iopub.status.idle": "2020-08-20T16:32:02.136Z",
          "shell.execute_reply": "2020-08-20T16:32:02.169Z"
        }
      }
    },
    {
      "cell_type": "code",
      "source": [
        "tuple2[-1:]"
      ],
      "outputs": [
        {
          "output_type": "execute_result",
          "execution_count": 19,
          "data": {
            "text/plain": "(10,)"
          },
          "metadata": {}
        }
      ],
      "execution_count": 19,
      "metadata": {
        "execution": {
          "iopub.status.busy": "2020-08-20T16:32:06.951Z",
          "iopub.execute_input": "2020-08-20T16:32:06.969Z",
          "iopub.status.idle": "2020-08-20T16:32:07.019Z",
          "shell.execute_reply": "2020-08-20T16:32:07.069Z"
        }
      }
    },
    {
      "cell_type": "code",
      "source": [
        "tuple2[-5:-2]"
      ],
      "outputs": [
        {
          "output_type": "execute_result",
          "execution_count": 20,
          "data": {
            "text/plain": "('disco', 10, 1.2)"
          },
          "metadata": {}
        }
      ],
      "execution_count": 20,
      "metadata": {
        "execution": {
          "iopub.status.busy": "2020-08-20T16:32:08.396Z",
          "iopub.execute_input": "2020-08-20T16:32:08.417Z",
          "iopub.status.idle": "2020-08-20T16:32:08.458Z",
          "shell.execute_reply": "2020-08-20T16:32:08.481Z"
        }
      }
    },
    {
      "cell_type": "markdown",
      "source": [
        "We can obtain the length of a tuple using the length command: "
      ],
      "metadata": {}
    },
    {
      "cell_type": "code",
      "source": [
        "# Get the length of tuple\n",
        "\n",
        "len(tuple2)"
      ],
      "outputs": [
        {
          "output_type": "execute_result",
          "execution_count": 21,
          "data": {
            "text/plain": "5"
          },
          "metadata": {}
        }
      ],
      "execution_count": 21,
      "metadata": {
        "collapsed": false,
        "jupyter": {
          "outputs_hidden": false
        },
        "execution": {
          "iopub.status.busy": "2020-08-20T16:32:10.505Z",
          "iopub.execute_input": "2020-08-20T16:32:10.532Z",
          "iopub.status.idle": "2020-08-20T16:32:10.567Z",
          "shell.execute_reply": "2020-08-20T16:32:10.582Z"
        }
      }
    },
    {
      "cell_type": "markdown",
      "source": [
        "This figure shows the number of elements:"
      ],
      "metadata": {}
    },
    {
      "cell_type": "markdown",
      "source": [
        "<img src=\"https://s3-api.us-geo.objectstorage.softlayer.net/cf-courses-data/CognitiveClass/PY0101EN/Chapter%202/Images/TuplesElement.png\" width=\"750\" align=\"center\">"
      ],
      "metadata": {}
    },
    {
      "cell_type": "markdown",
      "source": [
        "<h3 id=\"sort\">Sorting</h3>"
      ],
      "metadata": {}
    },
    {
      "cell_type": "markdown",
      "source": [
        " Consider the following tuple:"
      ],
      "metadata": {}
    },
    {
      "cell_type": "code",
      "source": [
        "# A sample tuple\n",
        "\n",
        "Ratings = (0, 9, 6, 5, 10, 8, 9, 6, 2)\n",
        "Ratings"
      ],
      "outputs": [
        {
          "output_type": "execute_result",
          "execution_count": 22,
          "data": {
            "text/plain": "(0, 9, 6, 5, 10, 8, 9, 6, 2)"
          },
          "metadata": {}
        }
      ],
      "execution_count": 22,
      "metadata": {
        "execution": {
          "iopub.status.busy": "2020-08-20T16:32:43.221Z",
          "iopub.execute_input": "2020-08-20T16:32:43.242Z",
          "iopub.status.idle": "2020-08-20T16:32:43.282Z",
          "shell.execute_reply": "2020-08-20T16:32:43.299Z"
        }
      }
    },
    {
      "cell_type": "markdown",
      "source": [
        "We can sort the values in a tuple and save it to a new tuple: "
      ],
      "metadata": {}
    },
    {
      "cell_type": "code",
      "source": [
        "# Sort the tuple\n",
        "\n",
        "RatingsSorted = sorted(Ratings)  # Ascending Order\n",
        "RatingsSorted"
      ],
      "outputs": [
        {
          "output_type": "execute_result",
          "execution_count": 25,
          "data": {
            "text/plain": "[0, 2, 5, 6, 6, 8, 9, 9, 10]"
          },
          "metadata": {}
        }
      ],
      "execution_count": 25,
      "metadata": {
        "collapsed": false,
        "jupyter": {
          "outputs_hidden": false
        },
        "execution": {
          "iopub.status.busy": "2020-08-20T16:34:09.140Z",
          "iopub.execute_input": "2020-08-20T16:34:09.169Z",
          "iopub.status.idle": "2020-08-20T16:34:09.208Z",
          "shell.execute_reply": "2020-08-20T16:34:09.228Z"
        }
      }
    },
    {
      "cell_type": "code",
      "source": [
        "sorted(Ratings,reverse=True)  # Descending Order"
      ],
      "outputs": [
        {
          "output_type": "execute_result",
          "execution_count": 24,
          "data": {
            "text/plain": "[10, 9, 9, 8, 6, 6, 5, 2, 0]"
          },
          "metadata": {}
        }
      ],
      "execution_count": 24,
      "metadata": {
        "collapsed": true,
        "jupyter": {
          "source_hidden": false,
          "outputs_hidden": false
        },
        "nteract": {
          "transient": {
            "deleting": false
          }
        },
        "execution": {
          "iopub.status.busy": "2020-08-20T16:33:40.215Z",
          "iopub.execute_input": "2020-08-20T16:33:40.239Z",
          "iopub.status.idle": "2020-08-20T16:33:40.296Z",
          "shell.execute_reply": "2020-08-20T16:33:40.316Z"
        }
      }
    },
    {
      "cell_type": "markdown",
      "source": [
        "<h3 id=\"nest\">Nested Tuple</h3>"
      ],
      "metadata": {}
    },
    {
      "cell_type": "markdown",
      "source": [
        "A tuple can contain another tuple as well as other more complex data types. This process is called 'nesting'. Consider the following tuple with several elements: "
      ],
      "metadata": {}
    },
    {
      "cell_type": "code",
      "source": [
        "# Create a nest tuple\n",
        "\n",
        "NestedT =(1, 2, (\"pop\", \"rock\") ,(3,4),(\"disco\",(1,2)))\n",
        "NestedT"
      ],
      "outputs": [
        {
          "output_type": "execute_result",
          "execution_count": 26,
          "data": {
            "text/plain": "(1, 2, ('pop', 'rock'), (3, 4), ('disco', (1, 2)))"
          },
          "metadata": {}
        }
      ],
      "execution_count": 26,
      "metadata": {
        "execution": {
          "iopub.status.busy": "2020-08-20T16:36:33.778Z",
          "iopub.execute_input": "2020-08-20T16:36:33.804Z",
          "iopub.status.idle": "2020-08-20T16:36:33.843Z",
          "shell.execute_reply": "2020-08-20T16:36:33.860Z"
        }
      }
    },
    {
      "cell_type": "markdown",
      "source": [
        "Each element in the tuple including other tuples can be obtained via an index as shown in the figure:"
      ],
      "metadata": {}
    },
    {
      "cell_type": "markdown",
      "source": [
        "<img src=\"https://s3-api.us-geo.objectstorage.softlayer.net/cf-courses-data/CognitiveClass/PY0101EN/Chapter%202/Images/TuplesNestOne.png\" width=\"750\" align=\"center\">"
      ],
      "metadata": {}
    },
    {
      "cell_type": "code",
      "source": [
        "# Print element on each index\n",
        "\n",
        "print(\"Element 0 of Tuple: \", NestedT[0])\n",
        "print(\"Element 1 of Tuple: \", NestedT[1])\n",
        "print(\"Element 2 of Tuple: \", NestedT[2])\n",
        "print(\"Element 3 of Tuple: \", NestedT[3])\n",
        "print(\"Element 4 of Tuple: \", NestedT[4])"
      ],
      "outputs": [
        {
          "output_type": "stream",
          "name": "stdout",
          "text": [
            "Element 0 of Tuple:  1\n",
            "Element 1 of Tuple:  2\n",
            "Element 2 of Tuple:  ('pop', 'rock')\n",
            "Element 3 of Tuple:  (3, 4)\n",
            "Element 4 of Tuple:  ('disco', (1, 2))\n"
          ]
        }
      ],
      "execution_count": 27,
      "metadata": {
        "collapsed": false,
        "jupyter": {
          "outputs_hidden": false
        },
        "execution": {
          "iopub.status.busy": "2020-08-20T16:37:26.461Z",
          "iopub.execute_input": "2020-08-20T16:37:26.491Z",
          "iopub.status.idle": "2020-08-20T16:37:26.571Z",
          "shell.execute_reply": "2020-08-20T16:37:26.591Z"
        }
      }
    },
    {
      "cell_type": "markdown",
      "source": [
        "We can use the second index to access other tuples as demonstrated in the figure:"
      ],
      "metadata": {}
    },
    {
      "cell_type": "markdown",
      "source": [
        "<img src=\"https://s3-api.us-geo.objectstorage.softlayer.net/cf-courses-data/CognitiveClass/PY0101EN/Chapter%202/Images/TuplesNestTwo.png\" width=\"750\" align=\"center\">"
      ],
      "metadata": {}
    },
    {
      "cell_type": "code",
      "source": [
        "NestedT[2]"
      ],
      "outputs": [
        {
          "output_type": "execute_result",
          "execution_count": 28,
          "data": {
            "text/plain": "('pop', 'rock')"
          },
          "metadata": {}
        }
      ],
      "execution_count": 28,
      "metadata": {
        "collapsed": true,
        "jupyter": {
          "source_hidden": false,
          "outputs_hidden": false
        },
        "nteract": {
          "transient": {
            "deleting": false
          }
        },
        "execution": {
          "iopub.status.busy": "2020-08-20T16:44:04.332Z",
          "iopub.execute_input": "2020-08-20T16:44:04.353Z",
          "iopub.status.idle": "2020-08-20T16:44:04.389Z",
          "shell.execute_reply": "2020-08-20T16:44:04.405Z"
        }
      }
    },
    {
      "cell_type": "code",
      "source": [
        "NestedT[2][0]"
      ],
      "outputs": [
        {
          "output_type": "execute_result",
          "execution_count": 29,
          "data": {
            "text/plain": "'pop'"
          },
          "metadata": {}
        }
      ],
      "execution_count": 29,
      "metadata": {
        "collapsed": true,
        "jupyter": {
          "source_hidden": false,
          "outputs_hidden": false
        },
        "nteract": {
          "transient": {
            "deleting": false
          }
        },
        "execution": {
          "iopub.status.busy": "2020-08-20T16:44:14.126Z",
          "iopub.execute_input": "2020-08-20T16:44:14.145Z",
          "iopub.status.idle": "2020-08-20T16:44:14.184Z",
          "shell.execute_reply": "2020-08-20T16:44:14.203Z"
        }
      }
    },
    {
      "cell_type": "markdown",
      "source": [
        " We can access the nested tuples :"
      ],
      "metadata": {}
    },
    {
      "cell_type": "code",
      "source": [
        "# Print element on each index, including nest indexes\n",
        "\n",
        "print(\"Element 2, 0 of Tuple: \",   NestedT[2][0])\n",
        "print(\"Element 2, 1 of Tuple: \",   NestedT[2][1])\n",
        "print(\"Element 3, 0 of Tuple: \",   NestedT[3][0])\n",
        "print(\"Element 3, 1 of Tuple: \",   NestedT[3][1])\n",
        "print(\"Element 4, 0 of Tuple: \",   NestedT[4][0])\n",
        "print(\"Element 4, 1 of Tuple: \",   NestedT[4][1])"
      ],
      "outputs": [
        {
          "output_type": "stream",
          "name": "stdout",
          "text": [
            "Element 2, 0 of Tuple:  pop\n",
            "Element 2, 1 of Tuple:  rock\n",
            "Element 3, 0 of Tuple:  3\n",
            "Element 3, 1 of Tuple:  4\n",
            "Element 4, 0 of Tuple:  disco\n",
            "Element 4, 1 of Tuple:  (1, 2)\n"
          ]
        }
      ],
      "execution_count": 30,
      "metadata": {
        "collapsed": false,
        "jupyter": {
          "outputs_hidden": false
        },
        "execution": {
          "iopub.status.busy": "2020-08-20T16:44:29.760Z",
          "iopub.execute_input": "2020-08-20T16:44:29.796Z",
          "iopub.status.idle": "2020-08-20T16:44:29.835Z",
          "shell.execute_reply": "2020-08-20T16:44:29.853Z"
        }
      }
    },
    {
      "cell_type": "code",
      "source": [
        "print(\"Element 4, 1 of Tuple: \",   NestedT[4][1][0])"
      ],
      "outputs": [
        {
          "output_type": "stream",
          "name": "stdout",
          "text": [
            "Element 4, 1 of Tuple:  1\n"
          ]
        }
      ],
      "execution_count": 31,
      "metadata": {
        "collapsed": true,
        "jupyter": {
          "source_hidden": false,
          "outputs_hidden": false
        },
        "nteract": {
          "transient": {
            "deleting": false
          }
        },
        "execution": {
          "iopub.status.busy": "2020-08-20T16:44:53.334Z",
          "iopub.execute_input": "2020-08-20T16:44:53.362Z",
          "iopub.status.idle": "2020-08-20T16:44:53.405Z",
          "shell.execute_reply": "2020-08-20T16:44:53.422Z"
        }
      }
    },
    {
      "cell_type": "markdown",
      "source": [
        "We can access strings in the second nested tuples using a third index:"
      ],
      "metadata": {}
    },
    {
      "cell_type": "code",
      "source": [
        "NestedT[2]"
      ],
      "outputs": [
        {
          "output_type": "execute_result",
          "execution_count": 34,
          "data": {
            "text/plain": "('pop', 'rock')"
          },
          "metadata": {}
        }
      ],
      "execution_count": 34,
      "metadata": {
        "collapsed": true,
        "jupyter": {
          "source_hidden": false,
          "outputs_hidden": false
        },
        "nteract": {
          "transient": {
            "deleting": false
          }
        },
        "execution": {
          "iopub.status.busy": "2020-08-20T16:50:31.123Z",
          "iopub.execute_input": "2020-08-20T16:50:31.143Z",
          "iopub.status.idle": "2020-08-20T16:50:31.179Z",
          "shell.execute_reply": "2020-08-20T16:50:31.198Z"
        }
      }
    },
    {
      "cell_type": "code",
      "source": [
        "# Print the first element in the second nested tuples\n",
        "    \n",
        "NestedT[2][1][0]"
      ],
      "outputs": [
        {
          "output_type": "execute_result",
          "execution_count": 32,
          "data": {
            "text/plain": "'r'"
          },
          "metadata": {}
        }
      ],
      "execution_count": 32,
      "metadata": {
        "collapsed": false,
        "jupyter": {
          "outputs_hidden": false
        },
        "execution": {
          "iopub.status.busy": "2020-08-20T16:50:08.192Z",
          "iopub.execute_input": "2020-08-20T16:50:08.221Z",
          "iopub.status.idle": "2020-08-20T16:50:08.263Z",
          "shell.execute_reply": "2020-08-20T16:50:08.279Z"
        }
      }
    },
    {
      "cell_type": "code",
      "source": [
        "# Print the second element in the second nested tuples\n",
        "\n",
        "NestedT[2][1][1]"
      ],
      "outputs": [
        {
          "output_type": "execute_result",
          "execution_count": 33,
          "data": {
            "text/plain": "'o'"
          },
          "metadata": {}
        }
      ],
      "execution_count": 33,
      "metadata": {
        "collapsed": false,
        "jupyter": {
          "outputs_hidden": false
        },
        "execution": {
          "iopub.status.busy": "2020-08-20T16:50:08.768Z",
          "iopub.execute_input": "2020-08-20T16:50:08.791Z",
          "iopub.status.idle": "2020-08-20T16:50:08.827Z",
          "shell.execute_reply": "2020-08-20T16:50:08.845Z"
        }
      }
    },
    {
      "cell_type": "markdown",
      "source": [
        " We can use a tree to visualise the process. Each new index corresponds to a deeper level in the tree:"
      ],
      "metadata": {}
    },
    {
      "cell_type": "markdown",
      "source": [
        "<img src=\"https://s3-api.us-geo.objectstorage.softlayer.net/cf-courses-data/CognitiveClass/PY0101EN/Chapter%202/Images/TuplesNestThree.gif\" width=\"750\" align=\"center\">"
      ],
      "metadata": {}
    },
    {
      "cell_type": "markdown",
      "source": [
        "Similarly, we can access elements nested deeper in the tree with a fourth index:"
      ],
      "metadata": {}
    },
    {
      "cell_type": "code",
      "source": [
        "# Print the first element in the second nested tuples\n",
        "\n",
        "NestedT[4][1][0]"
      ],
      "outputs": [
        {
          "output_type": "execute_result",
          "execution_count": 35,
          "data": {
            "text/plain": "1"
          },
          "metadata": {}
        }
      ],
      "execution_count": 35,
      "metadata": {
        "collapsed": false,
        "jupyter": {
          "outputs_hidden": false
        },
        "execution": {
          "iopub.status.busy": "2020-08-20T16:53:59.970Z",
          "iopub.execute_input": "2020-08-20T16:54:00.000Z",
          "iopub.status.idle": "2020-08-20T16:54:00.070Z",
          "shell.execute_reply": "2020-08-20T16:54:00.091Z"
        }
      }
    },
    {
      "cell_type": "code",
      "source": [
        "# Print the second element in the second nested tuples\n",
        "\n",
        "NestedT[4][1][1]"
      ],
      "outputs": [
        {
          "output_type": "execute_result",
          "execution_count": 36,
          "data": {
            "text/plain": "2"
          },
          "metadata": {}
        }
      ],
      "execution_count": 36,
      "metadata": {
        "collapsed": false,
        "jupyter": {
          "outputs_hidden": false
        },
        "execution": {
          "iopub.status.busy": "2020-08-20T16:54:01.108Z",
          "iopub.execute_input": "2020-08-20T16:54:01.132Z",
          "iopub.status.idle": "2020-08-20T16:54:01.182Z",
          "shell.execute_reply": "2020-08-20T16:54:01.205Z"
        }
      }
    },
    {
      "cell_type": "markdown",
      "source": [
        "The following figure shows the relationship of the tree and the element <code>NestedT[4][1][1]</code>:"
      ],
      "metadata": {}
    },
    {
      "cell_type": "markdown",
      "source": [
        "<img src=\"https://s3-api.us-geo.objectstorage.softlayer.net/cf-courses-data/CognitiveClass/PY0101EN/Chapter%202/Images/TuplesNestFour.gif\" width=\"750\" align=\"center\">"
      ],
      "metadata": {}
    },
    {
      "cell_type": "markdown",
      "source": [
        "### Index Based Iteam Assignment:\n",
        "* In Tuple Indexing is possiable but not Iteam assignement is not possiable"
      ],
      "metadata": {}
    },
    {
      "cell_type": "code",
      "source": [
        "NestedT[0]"
      ],
      "outputs": [
        {
          "output_type": "execute_result",
          "execution_count": 37,
          "data": {
            "text/plain": "1"
          },
          "metadata": {}
        }
      ],
      "execution_count": 37,
      "metadata": {
        "execution": {
          "iopub.status.busy": "2020-08-20T16:54:48.099Z",
          "iopub.execute_input": "2020-08-20T16:54:48.125Z",
          "iopub.status.idle": "2020-08-20T16:54:48.173Z",
          "shell.execute_reply": "2020-08-20T16:54:48.193Z"
        }
      }
    },
    {
      "cell_type": "code",
      "source": [
        "NestedT[0]='Name'"
      ],
      "outputs": [
        {
          "output_type": "error",
          "ename": "TypeError",
          "evalue": "'tuple' object does not support item assignment",
          "traceback": [
            "\u001b[1;31m---------------------------------------------------------------------------\u001b[0m",
            "\u001b[1;31mTypeError\u001b[0m                                 Traceback (most recent call last)",
            "\u001b[1;32m<ipython-input-38-6f35213c1adc>\u001b[0m in \u001b[0;36m<module>\u001b[1;34m\u001b[0m\n\u001b[1;32m----> 1\u001b[1;33m \u001b[0mNestedT\u001b[0m\u001b[1;33m[\u001b[0m\u001b[1;36m0\u001b[0m\u001b[1;33m]\u001b[0m\u001b[1;33m=\u001b[0m\u001b[1;34m'Name'\u001b[0m\u001b[1;33m\u001b[0m\u001b[1;33m\u001b[0m\u001b[0m\n\u001b[0m",
            "\u001b[1;31mTypeError\u001b[0m: 'tuple' object does not support item assignment"
          ]
        }
      ],
      "execution_count": 38,
      "metadata": {
        "execution": {
          "iopub.status.busy": "2020-08-20T16:54:56.803Z",
          "iopub.execute_input": "2020-08-20T16:54:56.826Z",
          "iopub.status.idle": "2020-08-20T16:54:56.936Z",
          "shell.execute_reply": "2020-08-20T16:54:56.968Z"
        }
      }
    },
    {
      "cell_type": "markdown",
      "source": [
        "### Methods in Tuple\n",
        "\n",
        "* `Index()`: it used to check the Element Possition in tuple\n",
        "* `count()`: Count Number time a perticular element is occure"
      ],
      "metadata": {}
    },
    {
      "cell_type": "code",
      "source": [
        "NestedT.index(1) # Find the element position in tuple"
      ],
      "outputs": [
        {
          "output_type": "execute_result",
          "execution_count": 39,
          "data": {
            "text/plain": "0"
          },
          "metadata": {}
        }
      ],
      "execution_count": 39,
      "metadata": {
        "execution": {
          "iopub.status.busy": "2020-08-20T16:55:29.596Z",
          "iopub.execute_input": "2020-08-20T16:55:29.631Z",
          "iopub.status.idle": "2020-08-20T16:55:29.676Z",
          "shell.execute_reply": "2020-08-20T16:55:29.697Z"
        }
      }
    },
    {
      "cell_type": "code",
      "source": [
        "NestedT.count(1) #find how many time pericular Element is repated"
      ],
      "outputs": [
        {
          "output_type": "execute_result",
          "execution_count": 40,
          "data": {
            "text/plain": "1"
          },
          "metadata": {}
        }
      ],
      "execution_count": 40,
      "metadata": {
        "execution": {
          "iopub.status.busy": "2020-08-20T16:55:34.787Z",
          "iopub.execute_input": "2020-08-20T16:55:34.812Z",
          "iopub.status.idle": "2020-08-20T16:55:34.855Z",
          "shell.execute_reply": "2020-08-20T16:55:34.881Z"
        }
      }
    },
    {
      "cell_type": "code",
      "source": [
        "tu = 10, 1.256, 2j+3, 'hi', True,10,True\n",
        "tu"
      ],
      "outputs": [
        {
          "output_type": "execute_result",
          "execution_count": 42,
          "data": {
            "text/plain": "(10, 1.256, (3+2j), 'hi', True, 10, True)"
          },
          "metadata": {}
        }
      ],
      "execution_count": 42,
      "metadata": {
        "collapsed": true,
        "jupyter": {
          "source_hidden": false,
          "outputs_hidden": false
        },
        "nteract": {
          "transient": {
            "deleting": false
          }
        },
        "execution": {
          "iopub.status.busy": "2020-08-20T16:58:27.549Z",
          "iopub.execute_input": "2020-08-20T16:58:27.587Z",
          "iopub.status.idle": "2020-08-20T16:58:27.637Z",
          "shell.execute_reply": "2020-08-20T16:58:27.661Z"
        }
      }
    },
    {
      "cell_type": "code",
      "source": [
        "tu.count(True)"
      ],
      "outputs": [
        {
          "output_type": "execute_result",
          "execution_count": 44,
          "data": {
            "text/plain": "2"
          },
          "metadata": {}
        }
      ],
      "execution_count": 44,
      "metadata": {
        "collapsed": true,
        "jupyter": {
          "source_hidden": false,
          "outputs_hidden": false
        },
        "nteract": {
          "transient": {
            "deleting": false
          }
        },
        "execution": {
          "iopub.status.busy": "2020-08-20T16:58:42.958Z",
          "iopub.execute_input": "2020-08-20T16:58:42.982Z",
          "iopub.status.idle": "2020-08-20T16:58:43.021Z",
          "shell.execute_reply": "2020-08-20T16:58:43.039Z"
        }
      }
    },
    {
      "cell_type": "code",
      "source": [
        "tu.index('hi')"
      ],
      "outputs": [
        {
          "output_type": "execute_result",
          "execution_count": 45,
          "data": {
            "text/plain": "3"
          },
          "metadata": {}
        }
      ],
      "execution_count": 45,
      "metadata": {
        "collapsed": true,
        "jupyter": {
          "source_hidden": false,
          "outputs_hidden": false
        },
        "nteract": {
          "transient": {
            "deleting": false
          }
        },
        "execution": {
          "iopub.status.busy": "2020-08-20T16:58:56.869Z",
          "iopub.execute_input": "2020-08-20T16:58:56.888Z",
          "iopub.status.idle": "2020-08-20T16:58:56.932Z",
          "shell.execute_reply": "2020-08-20T16:58:56.959Z"
        }
      }
    },
    {
      "cell_type": "markdown",
      "source": [
        "<h2 id=\"quiz\">Quiz on Tuples</h2>"
      ],
      "metadata": {}
    },
    {
      "cell_type": "markdown",
      "source": [
        "Consider the following tuple:"
      ],
      "metadata": {}
    },
    {
      "cell_type": "code",
      "source": [
        "# sample tuple\n",
        "\n"
      ],
      "outputs": [],
      "execution_count": null,
      "metadata": {
        "collapsed": false,
        "jupyter": {
          "outputs_hidden": false
        }
      }
    },
    {
      "cell_type": "markdown",
      "source": [
        "Find the length of the tuple, <code>genres_tuple</code>:"
      ],
      "metadata": {}
    },
    {
      "cell_type": "code",
      "source": [
        "# Write your code below and press Shift+Enter to execute"
      ],
      "outputs": [],
      "execution_count": null,
      "metadata": {
        "collapsed": false,
        "jupyter": {
          "outputs_hidden": false
        }
      }
    },
    {
      "cell_type": "markdown",
      "source": [
        "<img src=\"https://s3-api.us-geo.objectstorage.softlayer.net/cf-courses-data/CognitiveClass/PY0101EN/Chapter%202/Images/TuplesQuiz.png\" width=\"1100\" align=\"center\">"
      ],
      "metadata": {}
    },
    {
      "cell_type": "markdown",
      "source": [
        "Double-click __here__ for the solution.\n",
        "\n",
        "<!-- Your answer is below:\n",
        "len(genres_tuple)\n",
        "-->"
      ],
      "metadata": {}
    },
    {
      "cell_type": "markdown",
      "source": [
        "Access the element, with respect to index 3: "
      ],
      "metadata": {}
    },
    {
      "cell_type": "code",
      "source": [
        "# Write your code below and press Shift+Enter to execute"
      ],
      "outputs": [],
      "execution_count": null,
      "metadata": {
        "collapsed": false,
        "jupyter": {
          "outputs_hidden": false
        }
      }
    },
    {
      "cell_type": "markdown",
      "source": [
        "Double-click __here__ for the solution.\n",
        "\n",
        "<!-- Your answer is below:\n",
        "genres_tuple[3]\n",
        "-->"
      ],
      "metadata": {}
    },
    {
      "cell_type": "markdown",
      "source": [
        "Use slicing to obtain indexes 3, 4 and 5:"
      ],
      "metadata": {}
    },
    {
      "cell_type": "code",
      "source": [
        "# Write your code below and press Shift+Enter to execute"
      ],
      "outputs": [],
      "execution_count": null,
      "metadata": {
        "collapsed": false,
        "jupyter": {
          "outputs_hidden": false
        }
      }
    },
    {
      "cell_type": "markdown",
      "source": [
        "Double-click __here__ for the solution.\n",
        "\n",
        "<!-- Your answer is below:\n",
        "genres_tuple[3:6]\n",
        "-->"
      ],
      "metadata": {}
    },
    {
      "cell_type": "markdown",
      "source": [
        "Find the first two elements of the tuple <code>genres_tuple</code>:"
      ],
      "metadata": {}
    },
    {
      "cell_type": "code",
      "source": [
        "# Write your code below and press Shift+Enter to execute"
      ],
      "outputs": [],
      "execution_count": null,
      "metadata": {
        "collapsed": false,
        "jupyter": {
          "outputs_hidden": false
        }
      }
    },
    {
      "cell_type": "markdown",
      "source": [
        "Double-click __here__ for the solution.\n",
        "\n",
        "<!-- Your answer is below:\n",
        "genres_tuple[0:2]\n",
        "-->"
      ],
      "metadata": {}
    },
    {
      "cell_type": "markdown",
      "source": [
        "Find the first index of <code>\"disco\"</code>:"
      ],
      "metadata": {}
    },
    {
      "cell_type": "code",
      "source": [
        "# Write your code below and press Shift+Enter to execute"
      ],
      "outputs": [],
      "execution_count": null,
      "metadata": {
        "collapsed": false,
        "jupyter": {
          "outputs_hidden": false
        }
      }
    },
    {
      "cell_type": "markdown",
      "source": [
        "Double-click __here__ for the solution.\n",
        "\n",
        "<!-- Your answer is below:\n",
        "genres_tuple.index(\"disco\")\n",
        "-->"
      ],
      "metadata": {}
    },
    {
      "cell_type": "markdown",
      "source": [
        "Generate a sorted List from the Tuple <code>C_tuple=(-5, 1, -3)</code>:"
      ],
      "metadata": {}
    },
    {
      "cell_type": "code",
      "source": [
        "# Write your code below and press Shift+Enter to execute"
      ],
      "outputs": [],
      "execution_count": null,
      "metadata": {
        "collapsed": false,
        "jupyter": {
          "outputs_hidden": false
        }
      }
    },
    {
      "cell_type": "markdown",
      "source": [
        "Double-click __here__ for the solution.\n",
        "\n",
        "<!-- Your answer is below:\n",
        "C_tuple = (-5, 1, -3)\n",
        "C_list = sorted(C_tuple)\n",
        "C_list\n",
        "-->"
      ],
      "metadata": {}
    }
  ],
  "metadata": {
    "kernelspec": {
      "display_name": "Python 3",
      "language": "python",
      "name": "python3"
    },
    "language_info": {
      "name": "python",
      "version": "3.6.8",
      "mimetype": "text/x-python",
      "codemirror_mode": {
        "name": "ipython",
        "version": 3
      },
      "pygments_lexer": "ipython3",
      "nbconvert_exporter": "python",
      "file_extension": ".py"
    },
    "nteract": {
      "version": "0.24.1"
    }
  },
  "nbformat": 4,
  "nbformat_minor": 4
}