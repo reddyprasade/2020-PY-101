{
  "cells": [
    {
      "cell_type": "markdown",
      "source": [
        "### Python Operators\n",
        "\n",
        "`Operators` are used to perform `operations` on variables and values.\n",
        "\n",
        "\n",
        "Python divides the operators in the following groups:\n",
        "\n",
        "1. Arithmetic operators\n",
        "2. Assignment operators\n",
        "3. Comparison operators\n",
        "4. Logical operators\n",
        "5. Identity operators\n",
        "6. Membership operators\n",
        "7. Bitwise operators"
      ],
      "metadata": {}
    },
    {
      "cell_type": "markdown",
      "source": [
        "### Arithmetic operators\n",
        "**Arithmetic operators** are used to perform mathematical operations like addition, subtraction, multiplication etc.\n",
        "<div class=\"table-responsive\"><table border=\"0\">\n",
        "    <caption><b>Arithmetic operators in Python</b></caption>\n",
        "\t<tbody>\n",
        "\t\t<tr>\n",
        "\t\t\t<th>Operator</th>\n",
        "\t\t\t<th>Meaning</th>\n",
        "\t\t\t<th>Example</th>\n",
        "\t\t</tr>\n",
        "\t\t<tr>\n",
        "\t\t\t<td>+</td>\n",
        "\t\t\t<td>Add two operands or unary plus</td>\n",
        "\t\t\t<td>x + y<br></td>\n",
        "\t\t</tr>\n",
        "\t\t<tr>\n",
        "\t\t\t<td>-</td>\n",
        "\t\t\t<td>Subtract right operand from the left or unary minus</td>\n",
        "\t\t\t<td>x - y<br></td>\n",
        "\t\t</tr>\n",
        "\t\t<tr>\n",
        "\t\t\t<td>*</td>\n",
        "\t\t\t<td>Multiply two operands</td>\n",
        "\t\t\t<td>x * y</td>\n",
        "\t\t</tr>\n",
        "\t\t<tr>\n",
        "\t\t\t<td>/</td>\n",
        "\t\t\t<td>Divide left operand by the right one (always results into float)</td>\n",
        "\t\t\t<td>x / y (Q)</td>\n",
        "\t\t</tr>\n",
        "\t\t<tr>\n",
        "\t\t\t<td>%</td>\n",
        "\t\t\t<td>Modulus - remainder of the division of left operand by the right</td>\n",
        "\t\t\t<td>x % y (remainder of x/y)</td>\n",
        "\t\t</tr>\n",
        "\t\t<tr>\n",
        "\t\t\t<td>//</td>\n",
        "\t\t\t<td>Floor division - division that results into whole number adjusted to the left in the number line</td>\n",
        "\t\t\t<td>x // y</td>\n",
        "\t\t</tr>\n",
        "\t\t<tr>\n",
        "\t\t\t<td>**</td>\n",
        "\t\t\t<td>Exponent - left operand raised to the power of right</td>\n",
        "\t\t\t<td>x**y (x to the power y)</td>\n",
        "\t\t</tr>\n",
        "\t</tbody>\n",
        "</table></div>"
      ],
      "metadata": {}
    },
    {
      "cell_type": "code",
      "source": [
        "# When Both Varable are integer\n",
        "x = 10\n",
        "y = 20"
      ],
      "outputs": [],
      "execution_count": 2,
      "metadata": {
        "collapsed": true,
        "jupyter": {
          "source_hidden": false,
          "outputs_hidden": false
        },
        "nteract": {
          "transient": {
            "deleting": false
          }
        },
        "execution": {
          "iopub.status.busy": "2020-09-17T04:22:25.933Z",
          "iopub.execute_input": "2020-09-17T04:22:25.959Z",
          "iopub.status.idle": "2020-09-17T04:22:25.974Z",
          "shell.execute_reply": "2020-09-17T04:22:25.982Z"
        }
      }
    },
    {
      "cell_type": "code",
      "source": [
        "x+y"
      ],
      "outputs": [
        {
          "output_type": "execute_result",
          "execution_count": 3,
          "data": {
            "text/plain": "30"
          },
          "metadata": {}
        }
      ],
      "execution_count": 3,
      "metadata": {
        "collapsed": true,
        "jupyter": {
          "source_hidden": false,
          "outputs_hidden": false
        },
        "nteract": {
          "transient": {
            "deleting": false
          }
        },
        "execution": {
          "iopub.status.busy": "2020-09-17T04:22:27.382Z",
          "iopub.execute_input": "2020-09-17T04:22:27.395Z",
          "iopub.status.idle": "2020-09-17T04:22:27.496Z",
          "shell.execute_reply": "2020-09-17T04:22:27.505Z"
        }
      }
    },
    {
      "cell_type": "markdown",
      "source": [
        "**Note:** All Operater are possable when it is an Interger"
      ],
      "metadata": {
        "nteract": {
          "transient": {
            "deleting": false
          }
        }
      }
    },
    {
      "cell_type": "code",
      "source": [
        "# One Data type is as integer and another one is Float\n",
        "a = 10\n",
        "b = 10.25"
      ],
      "outputs": [],
      "execution_count": 4,
      "metadata": {
        "execution": {
          "iopub.status.busy": "2020-09-17T04:22:54.847Z",
          "iopub.execute_input": "2020-09-17T04:22:54.855Z",
          "iopub.status.idle": "2020-09-17T04:22:54.868Z",
          "shell.execute_reply": "2020-09-17T04:22:54.885Z"
        }
      }
    },
    {
      "cell_type": "code",
      "source": [
        "a+b"
      ],
      "outputs": [
        {
          "output_type": "execute_result",
          "execution_count": 5,
          "data": {
            "text/plain": "20.25"
          },
          "metadata": {}
        }
      ],
      "execution_count": 5,
      "metadata": {
        "execution": {
          "iopub.status.busy": "2020-09-17T04:22:56.290Z",
          "iopub.execute_input": "2020-09-17T04:22:56.299Z",
          "iopub.status.idle": "2020-09-17T04:22:56.327Z",
          "shell.execute_reply": "2020-09-17T04:22:56.346Z"
        }
      }
    },
    {
      "cell_type": "code",
      "source": [
        "a-b"
      ],
      "outputs": [
        {
          "output_type": "execute_result",
          "execution_count": 6,
          "data": {
            "text/plain": "-0.25"
          },
          "metadata": {}
        }
      ],
      "execution_count": 6,
      "metadata": {
        "execution": {
          "iopub.status.busy": "2020-09-17T04:23:19.093Z",
          "iopub.execute_input": "2020-09-17T04:23:19.103Z",
          "iopub.status.idle": "2020-09-17T04:23:19.125Z",
          "shell.execute_reply": "2020-09-17T04:23:19.135Z"
        }
      }
    },
    {
      "cell_type": "code",
      "source": [
        "a*b"
      ],
      "outputs": [
        {
          "output_type": "execute_result",
          "execution_count": 7,
          "data": {
            "text/plain": "102.5"
          },
          "metadata": {}
        }
      ],
      "execution_count": 7,
      "metadata": {
        "execution": {
          "iopub.status.busy": "2020-09-17T04:23:23.077Z",
          "iopub.execute_input": "2020-09-17T04:23:23.089Z",
          "iopub.status.idle": "2020-09-17T04:23:23.110Z",
          "shell.execute_reply": "2020-09-17T04:23:23.119Z"
        }
      }
    },
    {
      "cell_type": "code",
      "source": [
        "# Modular division \n",
        "5%2  # you Will Get 2 is Q and 1 R"
      ],
      "outputs": [
        {
          "output_type": "execute_result",
          "execution_count": 12,
          "data": {
            "text/plain": "1"
          },
          "metadata": {}
        }
      ],
      "execution_count": 12,
      "metadata": {
        "collapsed": true,
        "jupyter": {
          "source_hidden": false,
          "outputs_hidden": false
        },
        "nteract": {
          "transient": {
            "deleting": false
          }
        },
        "execution": {
          "iopub.status.busy": "2020-09-17T04:26:56.391Z",
          "iopub.execute_input": "2020-09-17T04:26:56.401Z",
          "iopub.status.idle": "2020-09-17T04:26:56.421Z",
          "shell.execute_reply": "2020-09-17T04:26:56.431Z"
        }
      }
    },
    {
      "cell_type": "code",
      "source": [
        "# Division ➗ \n",
        "5/2  # Q"
      ],
      "outputs": [
        {
          "output_type": "execute_result",
          "execution_count": 13,
          "data": {
            "text/plain": "2.5"
          },
          "metadata": {}
        }
      ],
      "execution_count": 13,
      "metadata": {
        "execution": {
          "iopub.status.busy": "2020-09-17T04:27:27.544Z",
          "iopub.execute_input": "2020-09-17T04:27:27.556Z",
          "iopub.status.idle": "2020-09-17T04:27:27.579Z",
          "shell.execute_reply": "2020-09-17T04:27:27.592Z"
        }
      }
    },
    {
      "cell_type": "code",
      "source": [
        "5//2 # if Both Data type are integer even we get reminder is float it will convert to integer"
      ],
      "outputs": [
        {
          "output_type": "execute_result",
          "execution_count": 14,
          "data": {
            "text/plain": "2"
          },
          "metadata": {}
        }
      ],
      "execution_count": 14,
      "metadata": {
        "execution": {
          "iopub.status.busy": "2020-09-17T04:29:33.308Z",
          "iopub.execute_input": "2020-09-17T04:29:33.326Z",
          "iopub.status.idle": "2020-09-17T04:29:33.352Z",
          "shell.execute_reply": "2020-09-17T04:29:33.362Z"
        }
      }
    },
    {
      "cell_type": "code",
      "source": [
        "2//100 # if one float and one int it will return float roundoff"
      ],
      "outputs": [
        {
          "output_type": "execute_result",
          "execution_count": 18,
          "data": {
            "text/plain": "0"
          },
          "metadata": {}
        }
      ],
      "execution_count": 18,
      "metadata": {
        "collapsed": true,
        "jupyter": {
          "source_hidden": false,
          "outputs_hidden": false
        },
        "nteract": {
          "transient": {
            "deleting": false
          }
        },
        "execution": {
          "iopub.status.busy": "2020-09-17T04:34:57.183Z",
          "iopub.execute_input": "2020-09-17T04:34:57.197Z",
          "iopub.status.idle": "2020-09-17T04:34:57.219Z",
          "shell.execute_reply": "2020-09-17T04:34:57.232Z"
        }
      }
    },
    {
      "cell_type": "code",
      "source": [
        "2/100 # 105 Rs"
      ],
      "outputs": [
        {
          "output_type": "execute_result",
          "execution_count": 19,
          "data": {
            "text/plain": "0.02"
          },
          "metadata": {}
        }
      ],
      "execution_count": 19,
      "metadata": {
        "collapsed": true,
        "jupyter": {
          "source_hidden": false,
          "outputs_hidden": false
        },
        "nteract": {
          "transient": {
            "deleting": false
          }
        },
        "execution": {
          "iopub.status.busy": "2020-09-17T04:35:01.599Z",
          "iopub.execute_input": "2020-09-17T04:35:01.612Z",
          "iopub.status.idle": "2020-09-17T04:35:01.631Z",
          "shell.execute_reply": "2020-09-17T04:35:01.641Z"
        }
      }
    },
    {
      "cell_type": "code",
      "source": [
        "a%b"
      ],
      "outputs": [
        {
          "output_type": "execute_result",
          "execution_count": 10,
          "data": {
            "text/plain": "10.0"
          },
          "metadata": {}
        }
      ],
      "execution_count": 10,
      "metadata": {
        "execution": {
          "iopub.status.busy": "2020-09-17T04:24:19.098Z",
          "iopub.execute_input": "2020-09-17T04:24:19.110Z",
          "iopub.status.idle": "2020-09-17T04:24:19.129Z",
          "shell.execute_reply": "2020-09-17T04:24:19.140Z"
        }
      }
    },
    {
      "cell_type": "code",
      "source": [
        "a**b"
      ],
      "outputs": [
        {
          "output_type": "execute_result",
          "execution_count": 11,
          "data": {
            "text/plain": "17782794100.38923"
          },
          "metadata": {}
        }
      ],
      "execution_count": 11,
      "metadata": {
        "execution": {
          "iopub.status.busy": "2020-09-17T04:24:20.678Z",
          "iopub.execute_input": "2020-09-17T04:24:20.692Z",
          "iopub.status.idle": "2020-09-17T04:24:20.712Z",
          "shell.execute_reply": "2020-09-17T04:24:20.721Z"
        }
      }
    },
    {
      "cell_type": "code",
      "source": [
        "s = 'hi'\n",
        "s1 = 2"
      ],
      "outputs": [],
      "execution_count": 30,
      "metadata": {
        "collapsed": true,
        "jupyter": {
          "source_hidden": false,
          "outputs_hidden": false
        },
        "nteract": {
          "transient": {
            "deleting": false
          }
        },
        "execution": {
          "iopub.status.busy": "2020-09-17T04:38:23.029Z",
          "iopub.execute_input": "2020-09-17T04:38:23.041Z",
          "iopub.status.idle": "2020-09-17T04:38:23.062Z",
          "shell.execute_reply": "2020-09-17T04:38:23.076Z"
        }
      }
    },
    {
      "cell_type": "code",
      "source": [
        "s*s1"
      ],
      "outputs": [
        {
          "output_type": "execute_result",
          "execution_count": 32,
          "data": {
            "text/plain": "'hihi'"
          },
          "metadata": {}
        }
      ],
      "execution_count": 32,
      "metadata": {
        "collapsed": true,
        "jupyter": {
          "source_hidden": false,
          "outputs_hidden": false
        },
        "nteract": {
          "transient": {
            "deleting": false
          }
        },
        "execution": {
          "iopub.status.busy": "2020-09-17T04:38:28.714Z",
          "iopub.execute_input": "2020-09-17T04:38:28.728Z",
          "iopub.status.idle": "2020-09-17T04:38:28.754Z",
          "shell.execute_reply": "2020-09-17T04:38:28.762Z"
        }
      }
    },
    {
      "cell_type": "code",
      "source": [
        "s%s1"
      ],
      "outputs": [
        {
          "output_type": "error",
          "ename": "TypeError",
          "evalue": "not all arguments converted during string formatting",
          "traceback": [
            "\u001b[1;31m---------------------------------------------------------------------------\u001b[0m",
            "\u001b[1;31mTypeError\u001b[0m                                 Traceback (most recent call last)",
            "\u001b[1;32m<ipython-input-33-13bcbabecd10>\u001b[0m in \u001b[0;36m<module>\u001b[1;34m\u001b[0m\n\u001b[1;32m----> 1\u001b[1;33m \u001b[0ms\u001b[0m\u001b[1;33m%\u001b[0m\u001b[0ms1\u001b[0m\u001b[1;33m\u001b[0m\u001b[1;33m\u001b[0m\u001b[0m\n\u001b[0m",
            "\u001b[1;31mTypeError\u001b[0m: not all arguments converted during string formatting"
          ]
        }
      ],
      "execution_count": 33,
      "metadata": {
        "collapsed": true,
        "jupyter": {
          "source_hidden": false,
          "outputs_hidden": false
        },
        "nteract": {
          "transient": {
            "deleting": false
          }
        },
        "execution": {
          "iopub.status.busy": "2020-09-17T04:38:32.736Z",
          "iopub.execute_input": "2020-09-17T04:38:32.752Z",
          "iopub.status.idle": "2020-09-17T04:38:32.795Z",
          "shell.execute_reply": "2020-09-17T04:38:32.824Z"
        }
      }
    },
    {
      "cell_type": "markdown",
      "source": [
        "## Assignment operators\n",
        "* Assignment operations are used for assigning a values to varable\n",
        "\n",
        "|Operator|Example|Try it|\n",
        "|--------|-------|------|\n",
        "|=|x = 5|x = 5|\n",
        "|+=|x += 3|x=x+3|\n",
        "|-=|x-=3|x=x-3|\n",
        "|*=|x*=3|x=x*3|\n",
        "|/=|x/=3|x=x/3|\n",
        "|//=|x//=3|x=x//3|\n",
        "|**=|x**=3|x=x**3|\n",
        "  "
      ],
      "metadata": {
        "nteract": {
          "transient": {
            "deleting": false
          }
        }
      }
    },
    {
      "cell_type": "code",
      "source": [
        "a = 10\n",
        "b = 1"
      ],
      "outputs": [],
      "execution_count": 36,
      "metadata": {
        "collapsed": true,
        "jupyter": {
          "source_hidden": false,
          "outputs_hidden": false
        },
        "nteract": {
          "transient": {
            "deleting": false
          }
        },
        "execution": {
          "iopub.status.busy": "2020-09-17T04:48:34.990Z",
          "iopub.execute_input": "2020-09-17T04:48:35.001Z",
          "iopub.status.idle": "2020-09-17T04:48:35.022Z",
          "shell.execute_reply": "2020-09-17T04:48:35.033Z"
        }
      }
    },
    {
      "cell_type": "code",
      "source": [
        "a+=b # a = a+b\n",
        "a"
      ],
      "outputs": [
        {
          "output_type": "execute_result",
          "execution_count": 37,
          "data": {
            "text/plain": "11"
          },
          "metadata": {}
        }
      ],
      "execution_count": 37,
      "metadata": {
        "collapsed": true,
        "jupyter": {
          "source_hidden": false,
          "outputs_hidden": false
        },
        "nteract": {
          "transient": {
            "deleting": false
          }
        },
        "execution": {
          "iopub.status.busy": "2020-09-17T04:48:45.889Z",
          "iopub.execute_input": "2020-09-17T04:48:45.899Z",
          "iopub.status.idle": "2020-09-17T04:48:45.931Z",
          "shell.execute_reply": "2020-09-17T04:48:45.942Z"
        }
      }
    },
    {
      "cell_type": "code",
      "source": [
        "a-=b # a = a-b \n",
        "a # a = 11-1"
      ],
      "outputs": [
        {
          "output_type": "execute_result",
          "execution_count": 38,
          "data": {
            "text/plain": "10"
          },
          "metadata": {}
        }
      ],
      "execution_count": 38,
      "metadata": {
        "collapsed": true,
        "jupyter": {
          "source_hidden": false,
          "outputs_hidden": false
        },
        "nteract": {
          "transient": {
            "deleting": false
          }
        },
        "execution": {
          "iopub.status.busy": "2020-09-17T04:48:56.740Z",
          "iopub.execute_input": "2020-09-17T04:48:56.755Z",
          "iopub.status.idle": "2020-09-17T04:48:56.780Z",
          "shell.execute_reply": "2020-09-17T04:48:56.791Z"
        }
      }
    },
    {
      "cell_type": "code",
      "source": [
        "a**=b # a =a ** b \n",
        "a # a= 10**1"
      ],
      "outputs": [
        {
          "output_type": "execute_result",
          "execution_count": 39,
          "data": {
            "text/plain": "10"
          },
          "metadata": {}
        }
      ],
      "execution_count": 39,
      "metadata": {
        "collapsed": true,
        "jupyter": {
          "source_hidden": false,
          "outputs_hidden": false
        },
        "nteract": {
          "transient": {
            "deleting": false
          }
        },
        "execution": {
          "iopub.status.busy": "2020-09-17T04:49:50.501Z",
          "iopub.execute_input": "2020-09-17T04:49:50.520Z",
          "iopub.status.idle": "2020-09-17T04:49:50.561Z",
          "shell.execute_reply": "2020-09-17T04:49:50.575Z"
        }
      }
    },
    {
      "cell_type": "code",
      "source": [
        "a/=b # a = a/b\n",
        "a"
      ],
      "outputs": [
        {
          "output_type": "execute_result",
          "execution_count": 40,
          "data": {
            "text/plain": "10.0"
          },
          "metadata": {}
        }
      ],
      "execution_count": 40,
      "metadata": {
        "collapsed": true,
        "jupyter": {
          "source_hidden": false,
          "outputs_hidden": false
        },
        "nteract": {
          "transient": {
            "deleting": false
          }
        },
        "execution": {
          "iopub.status.busy": "2020-09-17T04:50:14.861Z",
          "iopub.execute_input": "2020-09-17T04:50:14.872Z",
          "iopub.status.idle": "2020-09-17T04:50:14.902Z",
          "shell.execute_reply": "2020-09-17T04:50:14.913Z"
        }
      }
    },
    {
      "cell_type": "code",
      "source": [
        "a//=b # a = a//b\n",
        "a"
      ],
      "outputs": [
        {
          "output_type": "execute_result",
          "execution_count": 43,
          "data": {
            "text/plain": "10.0"
          },
          "metadata": {}
        }
      ],
      "execution_count": 43,
      "metadata": {
        "collapsed": true,
        "jupyter": {
          "source_hidden": false,
          "outputs_hidden": false
        },
        "nteract": {
          "transient": {
            "deleting": false
          }
        },
        "execution": {
          "iopub.status.busy": "2020-09-17T04:50:38.992Z",
          "iopub.execute_input": "2020-09-17T04:50:39.003Z",
          "iopub.status.idle": "2020-09-17T04:50:39.026Z",
          "shell.execute_reply": "2020-09-17T04:50:39.036Z"
        }
      }
    },
    {
      "cell_type": "code",
      "source": [
        "d = 100\n",
        "#r = d/2 # half of the radius is called Radius \n",
        "d/=2  #d = d/2\n",
        "d"
      ],
      "outputs": [
        {
          "output_type": "execute_result",
          "execution_count": 45,
          "data": {
            "text/plain": "50.0"
          },
          "metadata": {}
        }
      ],
      "execution_count": 45,
      "metadata": {
        "collapsed": true,
        "jupyter": {
          "source_hidden": false,
          "outputs_hidden": false
        },
        "nteract": {
          "transient": {
            "deleting": false
          }
        },
        "execution": {
          "iopub.status.busy": "2020-09-17T04:55:16.358Z",
          "iopub.execute_input": "2020-09-17T04:55:16.377Z",
          "iopub.status.idle": "2020-09-17T04:55:16.411Z",
          "shell.execute_reply": "2020-09-17T04:55:16.426Z"
        }
      }
    },
    {
      "cell_type": "markdown",
      "source": [
        "#### Comparison Operators\n",
        "\n",
        "* Comparison operators are used to compare two values:\n",
        "* To Compare both values and Return Boolen mask\n",
        "\n",
        "|Operator\t|Name\t|Example|\n",
        "|-------|------|----|\n",
        "|==|\tEqual|\tx == y|\n",
        "|!=|\tNot equal|\tx != y|\n",
        "|>|\tGreater than|\tx > y|\n",
        "|<|\tLess than\t|x < y|\n",
        "|>=|\tGreater than or equal to|\tx >= y|\n",
        "|<=|\tLess than or equal to\t|x <= y|"
      ],
      "metadata": {
        "nteract": {
          "transient": {
            "deleting": false
          }
        }
      }
    },
    {
      "cell_type": "code",
      "source": [
        "x = 10\n",
        "y = 10.5"
      ],
      "outputs": [],
      "execution_count": 46,
      "metadata": {
        "collapsed": true,
        "jupyter": {
          "source_hidden": false,
          "outputs_hidden": false
        },
        "nteract": {
          "transient": {
            "deleting": false
          }
        },
        "execution": {
          "iopub.status.busy": "2020-09-17T04:57:50.027Z",
          "iopub.execute_input": "2020-09-17T04:57:50.044Z",
          "iopub.status.idle": "2020-09-17T04:57:50.066Z",
          "shell.execute_reply": "2020-09-17T04:57:50.084Z"
        }
      }
    },
    {
      "cell_type": "code",
      "source": [
        "x == y"
      ],
      "outputs": [
        {
          "output_type": "execute_result",
          "execution_count": 47,
          "data": {
            "text/plain": "False"
          },
          "metadata": {}
        }
      ],
      "execution_count": 47,
      "metadata": {
        "collapsed": true,
        "jupyter": {
          "source_hidden": false,
          "outputs_hidden": false
        },
        "nteract": {
          "transient": {
            "deleting": false
          }
        },
        "execution": {
          "iopub.status.busy": "2020-09-17T04:57:58.011Z",
          "iopub.execute_input": "2020-09-17T04:57:58.041Z",
          "iopub.status.idle": "2020-09-17T04:57:58.116Z",
          "shell.execute_reply": "2020-09-17T04:57:58.137Z"
        }
      }
    },
    {
      "cell_type": "code",
      "source": [
        "x!=y"
      ],
      "outputs": [
        {
          "output_type": "execute_result",
          "execution_count": 48,
          "data": {
            "text/plain": "True"
          },
          "metadata": {}
        }
      ],
      "execution_count": 48,
      "metadata": {
        "collapsed": true,
        "jupyter": {
          "source_hidden": false,
          "outputs_hidden": false
        },
        "nteract": {
          "transient": {
            "deleting": false
          }
        },
        "execution": {
          "iopub.status.busy": "2020-09-17T04:59:12.986Z",
          "iopub.execute_input": "2020-09-17T04:59:13.004Z",
          "iopub.status.idle": "2020-09-17T04:59:13.050Z",
          "shell.execute_reply": "2020-09-17T04:59:13.065Z"
        }
      }
    },
    {
      "cell_type": "code",
      "source": [
        "x<y"
      ],
      "outputs": [
        {
          "output_type": "execute_result",
          "execution_count": 49,
          "data": {
            "text/plain": "True"
          },
          "metadata": {}
        }
      ],
      "execution_count": 49,
      "metadata": {
        "collapsed": true,
        "jupyter": {
          "source_hidden": false,
          "outputs_hidden": false
        },
        "nteract": {
          "transient": {
            "deleting": false
          }
        },
        "execution": {
          "iopub.status.busy": "2020-09-17T04:59:19.013Z",
          "iopub.execute_input": "2020-09-17T04:59:19.033Z",
          "iopub.status.idle": "2020-09-17T04:59:19.067Z",
          "shell.execute_reply": "2020-09-17T04:59:19.082Z"
        }
      }
    },
    {
      "cell_type": "code",
      "source": [
        "x>y"
      ],
      "outputs": [
        {
          "output_type": "execute_result",
          "execution_count": 50,
          "data": {
            "text/plain": "False"
          },
          "metadata": {}
        }
      ],
      "execution_count": 50,
      "metadata": {
        "collapsed": true,
        "jupyter": {
          "source_hidden": false,
          "outputs_hidden": false
        },
        "nteract": {
          "transient": {
            "deleting": false
          }
        },
        "execution": {
          "iopub.status.busy": "2020-09-17T04:59:35.068Z",
          "iopub.execute_input": "2020-09-17T04:59:35.081Z",
          "iopub.status.idle": "2020-09-17T04:59:35.112Z",
          "shell.execute_reply": "2020-09-17T04:59:35.139Z"
        }
      }
    },
    {
      "cell_type": "code",
      "source": [
        "x<y"
      ],
      "outputs": [
        {
          "output_type": "execute_result",
          "execution_count": 51,
          "data": {
            "text/plain": "True"
          },
          "metadata": {}
        }
      ],
      "execution_count": 51,
      "metadata": {
        "collapsed": true,
        "jupyter": {
          "source_hidden": false,
          "outputs_hidden": false
        },
        "nteract": {
          "transient": {
            "deleting": false
          }
        },
        "execution": {
          "iopub.status.busy": "2020-09-17T04:59:36.087Z",
          "iopub.execute_input": "2020-09-17T04:59:36.101Z",
          "iopub.status.idle": "2020-09-17T04:59:36.132Z",
          "shell.execute_reply": "2020-09-17T04:59:36.145Z"
        }
      }
    },
    {
      "cell_type": "code",
      "source": [
        "x<=y"
      ],
      "outputs": [
        {
          "output_type": "execute_result",
          "execution_count": 52,
          "data": {
            "text/plain": "True"
          },
          "metadata": {}
        }
      ],
      "execution_count": 52,
      "metadata": {
        "collapsed": true,
        "jupyter": {
          "source_hidden": false,
          "outputs_hidden": false
        },
        "nteract": {
          "transient": {
            "deleting": false
          }
        },
        "execution": {
          "iopub.status.busy": "2020-09-17T04:59:47.488Z",
          "iopub.execute_input": "2020-09-17T04:59:47.514Z",
          "iopub.status.idle": "2020-09-17T04:59:47.545Z",
          "shell.execute_reply": "2020-09-17T04:59:47.560Z"
        }
      }
    },
    {
      "cell_type": "code",
      "source": [
        "x>=y"
      ],
      "outputs": [
        {
          "output_type": "execute_result",
          "execution_count": 53,
          "data": {
            "text/plain": "False"
          },
          "metadata": {}
        }
      ],
      "execution_count": 53,
      "metadata": {
        "collapsed": true,
        "jupyter": {
          "source_hidden": false,
          "outputs_hidden": false
        },
        "nteract": {
          "transient": {
            "deleting": false
          }
        },
        "execution": {
          "iopub.status.busy": "2020-09-17T04:59:55.005Z",
          "iopub.execute_input": "2020-09-17T04:59:55.032Z",
          "iopub.status.idle": "2020-09-17T04:59:55.067Z",
          "shell.execute_reply": "2020-09-17T04:59:55.100Z"
        }
      }
    },
    {
      "cell_type": "markdown",
      "source": [
        "##### Mixture Opeartion on ath and comp"
      ],
      "metadata": {
        "nteract": {
          "transient": {
            "deleting": false
          }
        }
      }
    },
    {
      "cell_type": "code",
      "source": [
        "a = 10\n",
        "b = 20\n",
        "x = 5.5\n",
        "y = 2.5"
      ],
      "outputs": [],
      "execution_count": null,
      "metadata": {
        "collapsed": true,
        "jupyter": {
          "source_hidden": false,
          "outputs_hidden": false
        },
        "nteract": {
          "transient": {
            "deleting": false
          }
        }
      }
    },
    {
      "cell_type": "code",
      "source": [
        " a+b == x+y  \n",
        "#10+10 == 5.5+2.5 "
      ],
      "outputs": [
        {
          "output_type": "execute_result",
          "execution_count": 54,
          "data": {
            "text/plain": "False"
          },
          "metadata": {}
        }
      ],
      "execution_count": 54,
      "metadata": {
        "collapsed": true,
        "jupyter": {
          "source_hidden": false,
          "outputs_hidden": false
        },
        "nteract": {
          "transient": {
            "deleting": false
          }
        },
        "execution": {
          "iopub.status.busy": "2020-09-17T05:01:00.377Z",
          "iopub.execute_input": "2020-09-17T05:01:00.390Z",
          "iopub.status.idle": "2020-09-17T05:01:00.429Z",
          "shell.execute_reply": "2020-09-17T05:01:00.449Z"
        }
      }
    },
    {
      "cell_type": "code",
      "source": [
        "a+=b == a-=b # note We can perform assignments operation "
      ],
      "outputs": [
        {
          "output_type": "error",
          "ename": "SyntaxError",
          "evalue": "invalid syntax (<ipython-input-55-2947354e0d53>, line 1)",
          "traceback": [
            "\u001b[1;36m  File \u001b[1;32m\"<ipython-input-55-2947354e0d53>\"\u001b[1;36m, line \u001b[1;32m1\u001b[0m\n\u001b[1;33m    a+=b == a-=b\u001b[0m\n\u001b[1;37m              ^\u001b[0m\n\u001b[1;31mSyntaxError\u001b[0m\u001b[1;31m:\u001b[0m invalid syntax\n"
          ]
        }
      ],
      "execution_count": 55,
      "metadata": {
        "collapsed": true,
        "jupyter": {
          "source_hidden": false,
          "outputs_hidden": false
        },
        "nteract": {
          "transient": {
            "deleting": false
          }
        },
        "execution": {
          "iopub.status.busy": "2020-09-17T05:01:49.999Z",
          "iopub.execute_input": "2020-09-17T05:01:50.022Z",
          "iopub.status.idle": "2020-09-17T05:01:50.116Z",
          "shell.execute_reply": "2020-09-17T05:01:50.129Z"
        }
      }
    },
    {
      "cell_type": "markdown",
      "source": [
        "### Logical Operators:\n",
        "* Logical operators are used to combine conditional statements:\n",
        "* it is Drived From Microprocessor  \n",
        "\n",
        "    * and \n",
        "    *  or\n",
        "    * not\n"
      ],
      "metadata": {
        "nteract": {
          "transient": {
            "deleting": false
          }
        }
      }
    },
    {
      "cell_type": "markdown",
      "source": [
        "### And \n",
        "* iF both the Condition are true then we will get output\n",
        "#### True Table \n",
        "\n",
        "|A|B|A and B|\n",
        "|---|--|--|\n",
        "|True|True|True|\n",
        "|True|False|False|\n",
        "|False|True|False|\n",
        "|False|False|False|\n",
        "\n",
        "![](https://lh3.googleusercontent.com/-rLhhKBS_7Do/X2LvEFRJooI/AAAAAAAAp60/IQPuHq3_0vQCLtib2yzDzk3I41Xc20e6ACK8BGAsYHg/s402/2020-09-16.png)"
      ],
      "metadata": {
        "nteract": {
          "transient": {
            "deleting": false
          }
        }
      }
    },
    {
      "cell_type": "code",
      "source": [
        "A = True\n",
        "B = False\n",
        "A and B"
      ],
      "outputs": [
        {
          "output_type": "execute_result",
          "execution_count": 57,
          "data": {
            "text/plain": "False"
          },
          "metadata": {}
        }
      ],
      "execution_count": 57,
      "metadata": {
        "collapsed": true,
        "jupyter": {
          "source_hidden": false,
          "outputs_hidden": false
        },
        "nteract": {
          "transient": {
            "deleting": false
          }
        },
        "execution": {
          "iopub.status.busy": "2020-09-17T05:08:18.761Z",
          "iopub.execute_input": "2020-09-17T05:08:18.782Z",
          "iopub.status.idle": "2020-09-17T05:08:18.820Z",
          "shell.execute_reply": "2020-09-17T05:08:18.837Z"
        }
      }
    },
    {
      "cell_type": "code",
      "source": [
        "x = 10\n",
        "y = 20\n",
        "x and y   # When You Data is integer what ever we have in Right side "
      ],
      "outputs": [
        {
          "output_type": "execute_result",
          "execution_count": 61,
          "data": {
            "text/plain": "20"
          },
          "metadata": {}
        }
      ],
      "execution_count": 61,
      "metadata": {
        "collapsed": true,
        "jupyter": {
          "source_hidden": false,
          "outputs_hidden": false
        },
        "nteract": {
          "transient": {
            "deleting": false
          }
        },
        "execution": {
          "iopub.status.busy": "2020-09-17T05:16:17.363Z",
          "iopub.execute_input": "2020-09-17T05:16:17.381Z",
          "iopub.status.idle": "2020-09-17T05:16:17.419Z",
          "shell.execute_reply": "2020-09-17T05:16:17.444Z"
        }
      }
    },
    {
      "cell_type": "code",
      "source": [
        "x = 20\n",
        "y = 20\n",
        "x and y"
      ],
      "outputs": [
        {
          "output_type": "execute_result",
          "execution_count": 66,
          "data": {
            "text/plain": "20"
          },
          "metadata": {}
        }
      ],
      "execution_count": 66,
      "metadata": {
        "collapsed": true,
        "jupyter": {
          "source_hidden": false,
          "outputs_hidden": false
        },
        "nteract": {
          "transient": {
            "deleting": false
          }
        },
        "execution": {
          "iopub.status.busy": "2020-09-17T05:18:32.436Z",
          "iopub.execute_input": "2020-09-17T05:18:32.469Z",
          "iopub.status.idle": "2020-09-17T05:18:32.526Z",
          "shell.execute_reply": "2020-09-17T05:18:32.544Z"
        }
      }
    },
    {
      "cell_type": "code",
      "source": [
        "a<=b and b<=a"
      ],
      "outputs": [
        {
          "output_type": "execute_result",
          "execution_count": 59,
          "data": {
            "text/plain": "False"
          },
          "metadata": {}
        }
      ],
      "execution_count": 59,
      "metadata": {
        "collapsed": true,
        "jupyter": {
          "source_hidden": false,
          "outputs_hidden": false
        },
        "nteract": {
          "transient": {
            "deleting": false
          }
        },
        "execution": {
          "iopub.status.busy": "2020-09-17T05:11:40.036Z",
          "iopub.execute_input": "2020-09-17T05:11:40.055Z",
          "iopub.status.idle": "2020-09-17T05:11:40.108Z",
          "shell.execute_reply": "2020-09-17T05:11:40.123Z"
        }
      }
    },
    {
      "cell_type": "code",
      "source": [
        "# What if both Values are String\n",
        "A = \"hello\"\n",
        "B = \"hi\""
      ],
      "outputs": [],
      "execution_count": 68,
      "metadata": {
        "collapsed": true,
        "jupyter": {
          "source_hidden": false,
          "outputs_hidden": false
        },
        "nteract": {
          "transient": {
            "deleting": false
          }
        },
        "execution": {
          "iopub.status.busy": "2020-09-17T05:24:32.641Z",
          "iopub.execute_input": "2020-09-17T05:24:32.669Z",
          "iopub.status.idle": "2020-09-17T05:24:32.714Z",
          "shell.execute_reply": "2020-09-17T05:24:32.732Z"
        }
      }
    },
    {
      "cell_type": "code",
      "source": [
        "A and B"
      ],
      "outputs": [
        {
          "output_type": "execute_result",
          "execution_count": 69,
          "data": {
            "text/plain": "'hi'"
          },
          "metadata": {}
        }
      ],
      "execution_count": 69,
      "metadata": {
        "collapsed": true,
        "jupyter": {
          "source_hidden": false,
          "outputs_hidden": false
        },
        "nteract": {
          "transient": {
            "deleting": false
          }
        },
        "execution": {
          "iopub.status.busy": "2020-09-17T05:24:36.649Z",
          "iopub.execute_input": "2020-09-17T05:24:36.671Z",
          "iopub.status.idle": "2020-09-17T05:24:36.775Z",
          "shell.execute_reply": "2020-09-17T05:24:36.805Z"
        }
      }
    },
    {
      "cell_type": "code",
      "source": [
        "ord('h'),ord('i')"
      ],
      "outputs": [
        {
          "output_type": "execute_result",
          "execution_count": 71,
          "data": {
            "text/plain": "(104, 105)"
          },
          "metadata": {}
        }
      ],
      "execution_count": 71,
      "metadata": {
        "collapsed": true,
        "jupyter": {
          "source_hidden": false,
          "outputs_hidden": false
        },
        "nteract": {
          "transient": {
            "deleting": false
          }
        },
        "execution": {
          "iopub.status.busy": "2020-09-17T05:25:20.145Z",
          "iopub.execute_input": "2020-09-17T05:25:20.167Z",
          "iopub.status.idle": "2020-09-17T05:25:20.207Z",
          "shell.execute_reply": "2020-09-17T05:25:20.228Z"
        }
      }
    },
    {
      "cell_type": "code",
      "source": [
        "chr(97),chr(65)"
      ],
      "outputs": [
        {
          "output_type": "execute_result",
          "execution_count": 73,
          "data": {
            "text/plain": "('a', 'A')"
          },
          "metadata": {}
        }
      ],
      "execution_count": 73,
      "metadata": {
        "collapsed": true,
        "jupyter": {
          "source_hidden": false,
          "outputs_hidden": false
        },
        "nteract": {
          "transient": {
            "deleting": false
          }
        },
        "execution": {
          "iopub.status.busy": "2020-09-17T05:25:50.776Z",
          "iopub.execute_input": "2020-09-17T05:25:50.804Z",
          "iopub.status.idle": "2020-09-17T05:25:50.868Z",
          "shell.execute_reply": "2020-09-17T05:25:50.886Z"
        }
      }
    },
    {
      "cell_type": "code",
      "source": [
        "\"left alignment in |{0:<10}| and i have right allignment |{0:>10}| and i want my Data should be in center |{0:^10}|\".format('hi')"
      ],
      "outputs": [
        {
          "output_type": "execute_result",
          "execution_count": 77,
          "data": {
            "text/plain": "'left alignment in |hi        | and i have right allignment |        hi| and i want my Data should be in center |    hi    |'"
          },
          "metadata": {}
        }
      ],
      "execution_count": 77,
      "metadata": {
        "collapsed": true,
        "jupyter": {
          "source_hidden": false,
          "outputs_hidden": false
        },
        "nteract": {
          "transient": {
            "deleting": false
          }
        },
        "execution": {
          "iopub.status.busy": "2020-09-17T05:29:08.968Z",
          "iopub.execute_input": "2020-09-17T05:29:08.993Z",
          "iopub.status.idle": "2020-09-17T05:29:09.037Z",
          "shell.execute_reply": "2020-09-17T05:29:09.059Z"
        }
      }
    },
    {
      "cell_type": "code",
      "source": [
        "\"Binary  in |{0:b}| and Hex |{0:x}| and oct |{0:x}|\".format(15)"
      ],
      "outputs": [
        {
          "output_type": "execute_result",
          "execution_count": 81,
          "data": {
            "text/plain": "'Binary  in |1111| and Hex |f| and oct |f|'"
          },
          "metadata": {}
        }
      ],
      "execution_count": 81,
      "metadata": {
        "collapsed": true,
        "jupyter": {
          "source_hidden": false,
          "outputs_hidden": false
        },
        "nteract": {
          "transient": {
            "deleting": false
          }
        },
        "execution": {
          "iopub.status.busy": "2020-09-17T05:31:47.312Z",
          "iopub.execute_input": "2020-09-17T05:31:47.333Z",
          "iopub.status.idle": "2020-09-17T05:31:47.369Z",
          "shell.execute_reply": "2020-09-17T05:31:47.387Z"
        }
      }
    },
    {
      "cell_type": "markdown",
      "source": [
        "### Special operators\n",
        "Python language offers some `special type of operators` like the \n",
        "\n",
        "1. Identity operator \n",
        "    * is , \n",
        "    * isnot \n",
        "\n",
        "2. Membership operator. \n",
        "    * in ,\n",
        "    * notin\n",
        "    \n",
        "They are described below with examples."
      ],
      "metadata": {}
    },
    {
      "cell_type": "markdown",
      "source": [
        "### Identity operators\n",
        "\n",
        "* `is` and `is not` are the identity operators in Python. \n",
        "* They are used to check if two values (or variables) are located on the same part of the memory. \n",
        "* Two variables that are equal does not imply that they are identical."
      ],
      "metadata": {}
    },
    {
      "cell_type": "code",
      "source": [
        "X = 5\n",
        "y = 5"
      ],
      "outputs": [],
      "execution_count": 82,
      "metadata": {
        "execution": {
          "iopub.status.busy": "2020-09-17T05:35:33.498Z",
          "iopub.execute_input": "2020-09-17T05:35:33.518Z",
          "iopub.status.idle": "2020-09-17T05:35:33.549Z",
          "shell.execute_reply": "2020-09-17T05:35:33.581Z"
        }
      }
    },
    {
      "cell_type": "code",
      "source": [
        "x1 = \"Hello\"\n",
        "y2 = \"Hello\""
      ],
      "outputs": [],
      "execution_count": 83,
      "metadata": {
        "execution": {
          "iopub.status.busy": "2020-09-17T05:35:35.608Z",
          "iopub.execute_input": "2020-09-17T05:35:35.628Z",
          "iopub.status.idle": "2020-09-17T05:35:35.670Z",
          "shell.execute_reply": "2020-09-17T05:35:35.698Z"
        }
      }
    },
    {
      "cell_type": "code",
      "source": [
        "x1 is X  # 'Hello' is 5"
      ],
      "outputs": [
        {
          "output_type": "execute_result",
          "execution_count": 84,
          "data": {
            "text/plain": "False"
          },
          "metadata": {}
        }
      ],
      "execution_count": 84,
      "metadata": {
        "execution": {
          "iopub.status.busy": "2020-09-17T05:35:55.367Z",
          "iopub.execute_input": "2020-09-17T05:35:55.387Z",
          "iopub.status.idle": "2020-09-17T05:35:55.446Z",
          "shell.execute_reply": "2020-09-17T05:35:55.465Z"
        }
      }
    },
    {
      "cell_type": "code",
      "source": [
        "X is y"
      ],
      "outputs": [
        {
          "output_type": "execute_result",
          "execution_count": 85,
          "data": {
            "text/plain": "True"
          },
          "metadata": {}
        }
      ],
      "execution_count": 85,
      "metadata": {
        "execution": {
          "iopub.status.busy": "2020-09-17T05:36:07.368Z",
          "iopub.execute_input": "2020-09-17T05:36:07.390Z",
          "iopub.status.idle": "2020-09-17T05:36:07.449Z",
          "shell.execute_reply": "2020-09-17T05:36:07.470Z"
        }
      }
    },
    {
      "cell_type": "code",
      "source": [
        "id(X),id(y)"
      ],
      "outputs": [
        {
          "output_type": "execute_result",
          "execution_count": 87,
          "data": {
            "text/plain": "(1703313648, 1703313648)"
          },
          "metadata": {}
        }
      ],
      "execution_count": 87,
      "metadata": {
        "collapsed": true,
        "jupyter": {
          "source_hidden": false,
          "outputs_hidden": false
        },
        "nteract": {
          "transient": {
            "deleting": false
          }
        },
        "execution": {
          "iopub.status.busy": "2020-09-17T05:37:00.921Z",
          "iopub.execute_input": "2020-09-17T05:37:00.943Z",
          "iopub.status.idle": "2020-09-17T05:37:00.983Z",
          "shell.execute_reply": "2020-09-17T05:37:01.005Z"
        }
      }
    },
    {
      "cell_type": "code",
      "source": [
        "'H' is y2"
      ],
      "outputs": [
        {
          "output_type": "execute_result",
          "execution_count": 89,
          "data": {
            "text/plain": "False"
          },
          "metadata": {}
        }
      ],
      "execution_count": 89,
      "metadata": {
        "execution": {
          "iopub.status.busy": "2020-09-17T05:37:32.138Z",
          "iopub.execute_input": "2020-09-17T05:37:32.164Z",
          "iopub.status.idle": "2020-09-17T05:37:32.219Z",
          "shell.execute_reply": "2020-09-17T05:37:32.250Z"
        }
      }
    },
    {
      "cell_type": "code",
      "source": [
        "x1 is y2"
      ],
      "outputs": [
        {
          "output_type": "execute_result",
          "execution_count": 90,
          "data": {
            "text/plain": "True"
          },
          "metadata": {}
        }
      ],
      "execution_count": 90,
      "metadata": {
        "execution": {
          "iopub.status.busy": "2020-09-17T05:37:40.195Z",
          "iopub.execute_input": "2020-09-17T05:37:40.217Z",
          "iopub.status.idle": "2020-09-17T05:37:40.273Z",
          "shell.execute_reply": "2020-09-17T05:37:40.292Z"
        }
      }
    },
    {
      "cell_type": "code",
      "source": [
        "X is not y2"
      ],
      "outputs": [
        {
          "output_type": "execute_result",
          "execution_count": 91,
          "data": {
            "text/plain": "True"
          },
          "metadata": {}
        }
      ],
      "execution_count": 91,
      "metadata": {
        "execution": {
          "iopub.status.busy": "2020-09-17T05:37:46.811Z",
          "iopub.execute_input": "2020-09-17T05:37:46.834Z",
          "iopub.status.idle": "2020-09-17T05:37:46.897Z",
          "shell.execute_reply": "2020-09-17T05:37:46.919Z"
        }
      }
    },
    {
      "cell_type": "code",
      "source": [
        "X is not y"
      ],
      "outputs": [
        {
          "output_type": "execute_result",
          "execution_count": 92,
          "data": {
            "text/plain": "False"
          },
          "metadata": {}
        }
      ],
      "execution_count": 92,
      "metadata": {
        "execution": {
          "iopub.status.busy": "2020-09-17T05:37:47.860Z",
          "iopub.execute_input": "2020-09-17T05:37:47.887Z",
          "iopub.status.idle": "2020-09-17T05:37:47.950Z",
          "shell.execute_reply": "2020-09-17T05:37:47.970Z"
        }
      }
    },
    {
      "cell_type": "markdown",
      "source": [
        "### Membership operators\n",
        "\n",
        "* `in` and `not in` are the **membership operators** in Python. \n",
        "* They are used to test whether a value or variable is found in a sequence **(string, list, tuple, set and dictionary)**.\n",
        "\n",
        "* In a dictionary we can only test for presence of key, not the value."
      ],
      "metadata": {}
    },
    {
      "cell_type": "code",
      "source": [
        "a = \"Hello\""
      ],
      "outputs": [],
      "execution_count": 93,
      "metadata": {
        "execution": {
          "iopub.status.busy": "2020-09-17T05:38:26.580Z",
          "iopub.execute_input": "2020-09-17T05:38:26.604Z",
          "iopub.status.idle": "2020-09-17T05:38:26.645Z",
          "shell.execute_reply": "2020-09-17T05:38:26.680Z"
        }
      }
    },
    {
      "cell_type": "code",
      "source": [
        "'H' in a"
      ],
      "outputs": [
        {
          "output_type": "execute_result",
          "execution_count": 94,
          "data": {
            "text/plain": "True"
          },
          "metadata": {}
        }
      ],
      "execution_count": 94,
      "metadata": {
        "execution": {
          "iopub.status.busy": "2020-09-17T05:38:27.572Z",
          "iopub.execute_input": "2020-09-17T05:38:27.595Z",
          "iopub.status.idle": "2020-09-17T05:38:27.635Z",
          "shell.execute_reply": "2020-09-17T05:38:27.653Z"
        }
      }
    },
    {
      "cell_type": "code",
      "source": [
        "\"he\" not in a"
      ],
      "outputs": [
        {
          "output_type": "execute_result",
          "execution_count": 95,
          "data": {
            "text/plain": "True"
          },
          "metadata": {}
        }
      ],
      "execution_count": 95,
      "metadata": {
        "execution": {
          "iopub.status.busy": "2020-09-17T05:38:50.025Z",
          "iopub.execute_input": "2020-09-17T05:38:50.061Z",
          "iopub.status.idle": "2020-09-17T05:38:50.132Z",
          "shell.execute_reply": "2020-09-17T05:38:50.155Z"
        }
      }
    },
    {
      "cell_type": "code",
      "source": [
        "'He' not in a"
      ],
      "outputs": [
        {
          "output_type": "execute_result",
          "execution_count": 96,
          "data": {
            "text/plain": "False"
          },
          "metadata": {}
        }
      ],
      "execution_count": 96,
      "metadata": {
        "execution": {
          "iopub.status.busy": "2020-09-17T05:39:07.450Z",
          "iopub.execute_input": "2020-09-17T05:39:07.475Z",
          "iopub.status.idle": "2020-09-17T05:39:07.522Z",
          "shell.execute_reply": "2020-09-17T05:39:07.561Z"
        }
      }
    },
    {
      "cell_type": "code",
      "source": [
        "a = '10'\n",
        "b = \"10\""
      ],
      "outputs": [],
      "execution_count": null,
      "metadata": {}
    },
    {
      "cell_type": "code",
      "source": [
        "a in b"
      ],
      "outputs": [],
      "execution_count": null,
      "metadata": {}
    },
    {
      "cell_type": "code",
      "source": [
        "### Bitwise Operators\n",
        "\n",
        "* Bitwise  operater is only used for Binary Number System (0 or 1)\n",
        "* \n",
        "\n",
        "\n",
        "|"
      ],
      "outputs": [],
      "execution_count": null,
      "metadata": {}
    },
    {
      "cell_type": "code",
      "source": [],
      "outputs": [],
      "execution_count": null,
      "metadata": {
        "collapsed": true,
        "jupyter": {
          "source_hidden": false,
          "outputs_hidden": false
        },
        "nteract": {
          "transient": {
            "deleting": false
          }
        }
      }
    },
    {
      "cell_type": "code",
      "source": [],
      "outputs": [],
      "execution_count": null,
      "metadata": {
        "collapsed": true,
        "jupyter": {
          "source_hidden": false,
          "outputs_hidden": false
        },
        "nteract": {
          "transient": {
            "deleting": false
          }
        }
      }
    },
    {
      "cell_type": "code",
      "source": [],
      "outputs": [],
      "execution_count": null,
      "metadata": {
        "collapsed": true,
        "jupyter": {
          "source_hidden": false,
          "outputs_hidden": false
        },
        "nteract": {
          "transient": {
            "deleting": false
          }
        }
      }
    },
    {
      "cell_type": "code",
      "source": [],
      "outputs": [],
      "execution_count": null,
      "metadata": {
        "collapsed": true,
        "jupyter": {
          "source_hidden": false,
          "outputs_hidden": false
        },
        "nteract": {
          "transient": {
            "deleting": false
          }
        }
      }
    }
  ],
  "metadata": {
    "kernelspec": {
      "display_name": "Python 3",
      "language": "python",
      "name": "python3"
    },
    "language_info": {
      "name": "python",
      "version": "3.6.8",
      "mimetype": "text/x-python",
      "codemirror_mode": {
        "name": "ipython",
        "version": 3
      },
      "pygments_lexer": "ipython3",
      "nbconvert_exporter": "python",
      "file_extension": ".py"
    },
    "nteract": {
      "version": "0.25.0"
    }
  },
  "nbformat": 4,
  "nbformat_minor": 4
}